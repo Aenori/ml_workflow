{
 "cells": [
  {
   "cell_type": "markdown",
   "metadata": {},
   "source": [
    "# Présentation POC framework covid19"
   ]
  },
  {
   "cell_type": "markdown",
   "metadata": {},
   "source": [
    "4 fonctionnalités :\n",
    "- transparence\n",
    "- aider à la communication y compris pour des non data-scientist\n",
    "- reproductibilité\n",
    "- fonctionnement \"open\""
   ]
  },
  {
   "cell_type": "markdown",
   "metadata": {},
   "source": [
    "# Import"
   ]
  },
  {
   "cell_type": "code",
   "execution_count": null,
   "metadata": {},
   "outputs": [],
   "source": [
    "import pandas as pd\n",
    "import numpy as np\n",
    "\n",
    "import os, sys\n",
    "# Adding parent directory to python path\n",
    "sys.path.append(os.path.dirname(os.getcwd()))\n",
    "\n",
    "import ml_workflow\n",
    "from ml_workflow import Rule, DataSource\n",
    "\n",
    "import sqlite3"
   ]
  },
  {
   "cell_type": "markdown",
   "metadata": {},
   "source": [
    "# Pseudo covid 19"
   ]
  },
  {
   "cell_type": "code",
   "execution_count": null,
   "metadata": {},
   "outputs": [],
   "source": [
    "personnal_data_file = 'data/train.csv'\n",
    "pcr_tests_db = 'data/pcr_tests.db'\n",
    "consultation_db = 'data/consultations.db'\n",
    "\n",
    "\n",
    "@DataSource(name='Personnal data csv file')\n",
    "def retrieve_personnal_data():\n",
    "    return pd.read_csv(personnal_data_file)\n",
    "\n",
    "@DataSource(name='Retrieve pcr tests')\n",
    "def retrieve_pcr_tests():\n",
    "    conn = sqlite3.connect(pcr_tests_db)\n",
    "    return pd.read_sql(\n",
    "        'SELECT id, person_id, pcr_result, test_date FROM pcr_test ORDER BY id',\n",
    "        conn\n",
    "    )\n",
    "\n",
    "@DataSource(name='Retrieve data source')\n",
    "def retrieve_visites():\n",
    "    conn = sqlite3.connect(consultation_db)\n",
    "    return pd.read_sql(\n",
    "        'SELECT id, person_id, services, hospital, consultation_date FROM consultations ORDER BY id',\n",
    "        conn\n",
    "    )\n",
    "\n",
    "\n",
    "    \n",
    "\n",
    "@Rule(name='select_with_age', highlight=2)\n",
    "def select_with_age(personnal_df):\n",
    "    return personnal_df[np.logical_not(personnal_df['age'].isna())]\n",
    "        \n",
    "def get_patients_status():\n",
    "    personnal_df = retrieve_personnal_data()\n",
    "    print(personnal_df.ml_workflow_current_node.origin)\n",
    "    \n",
    "    personnal_df = Rule.call_from_reference_name('select_with_age')(personnal_df)\n",
    "        \n",
    "    return personnal_df\n",
    "\n",
    "def get_patients_pcr_positives():\n",
    "    patient_status = get_patients_status()\n",
    "    \n",
    "    tests_pcr = retrieve_pcr_tests()\n",
    "    \n",
    "    with Rule(name='pcr positif'):\n",
    "        tests_pcr = tests_pcr[tests_pcr['pcr_result'] == 'positive']\n",
    "    \n",
    "    with Rule(name='pcr_positif_merge'):\n",
    "        return patient_status.merge(tests_pcr, left_on='id', right_on='person_id')\n",
    "    \n",
    "def get_consultations():\n",
    "    return retrieve_visites()\n"
   ]
  },
  {
   "cell_type": "markdown",
   "metadata": {},
   "source": [
    "## Sqlite3 play-ground"
   ]
  },
  {
   "cell_type": "markdown",
   "metadata": {},
   "source": [
    "## Pandas play-ground"
   ]
  },
  {
   "cell_type": "code",
   "execution_count": null,
   "metadata": {},
   "outputs": [],
   "source": [
    "get_patients_status()['age'].mean()"
   ]
  },
  {
   "cell_type": "markdown",
   "metadata": {},
   "source": [
    "# User code"
   ]
  },
  {
   "cell_type": "code",
   "execution_count": null,
   "metadata": {},
   "outputs": [],
   "source": [
    "patient_status = get_patients_status()\n",
    "\n",
    "patient_status.plot_model()"
   ]
  },
  {
   "cell_type": "code",
   "execution_count": null,
   "metadata": {},
   "outputs": [],
   "source": [
    "get_patients_pcr_positives().plot_model()"
   ]
  },
  {
   "cell_type": "code",
   "execution_count": null,
   "metadata": {},
   "outputs": [],
   "source": [
    "patients = get_patients_pcr_positives()\n",
    "\n",
    "my_patient_status = patients[patients['age'] >= 18]\n",
    "my_patient_status = my_patient_status[my_patient_status['sex'] == 'female']\n",
    "\n",
    "my_patient_status.plot_model('graph.svg')\n",
    "my_patient_status.plot_model()\n"
   ]
  },
  {
   "cell_type": "code",
   "execution_count": null,
   "metadata": {},
   "outputs": [],
   "source": [
    "patients = get_patients_pcr_positives()\n",
    "\n",
    "with Rule(name='Select adult women'):\n",
    "    my_patient_status = patients[patients['age'] >= 18]\n",
    "    my_patient_status = my_patient_status[my_patient_status['sex'] == 'female']\n",
    "\n",
    "my_patient_status.plot_model('graph.png')"
   ]
  },
  {
   "cell_type": "markdown",
   "metadata": {},
   "source": [
    "# Fonctionnalité reproductibilité"
   ]
  },
  {
   "cell_type": "code",
   "execution_count": null,
   "metadata": {},
   "outputs": [],
   "source": [
    "conn = sqlite3.connect(pcr_tests_db)\n",
    "conn.execute(\"UPDATE pcr_test SET pcr_result = 'positive' WHERE pcr_result = 'Positif'\")\n",
    "conn.commit()"
   ]
  },
  {
   "cell_type": "code",
   "execution_count": null,
   "metadata": {},
   "outputs": [],
   "source": [
    "from ml_workflow.session import Session   \n",
    "    \n",
    "\n",
    "\n",
    "with Session.record_data_source('temp/test_session_record'):\n",
    "    patients = get_patients_pcr_positives()\n",
    "\n",
    "print(f\"Nb patients : {len(patients)}\")\n",
    "\n",
    "conn = sqlite3.connect(pcr_tests_db)\n",
    "conn.execute(\"UPDATE pcr_test SET pcr_result = 'Positif' WHERE pcr_result = 'positive'\")\n",
    "conn.commit()\n",
    "\n",
    "patients = get_patients_pcr_positives()\n",
    "print(f\"Nb patients : {len(patients)}\")\n",
    "\n",
    "patients.plot_model('graph.png')"
   ]
  },
  {
   "cell_type": "code",
   "execution_count": null,
   "metadata": {},
   "outputs": [],
   "source": [
    "with Session.play_data_source_record('temp/test_session_record'):\n",
    "    patients = get_patients_pcr_positives()\n",
    "    \n",
    "print(f\"Nb patients : {len(patients)}\")"
   ]
  },
  {
   "cell_type": "code",
   "execution_count": null,
   "metadata": {},
   "outputs": [],
   "source": [
    "patients.plot_model()"
   ]
  },
  {
   "cell_type": "markdown",
   "metadata": {},
   "source": [
    "## Cleaning db for the other cells"
   ]
  },
  {
   "cell_type": "code",
   "execution_count": null,
   "metadata": {},
   "outputs": [],
   "source": [
    "conn = sqlite3.connect(pcr_tests_db)\n",
    "conn.execute(\"UPDATE pcr_test SET pcr_result = 'positive' WHERE pcr_result = 'Positif'\")\n",
    "conn.commit()"
   ]
  },
  {
   "cell_type": "markdown",
   "metadata": {},
   "source": [
    "# Fonctionnalité versionning"
   ]
  },
  {
   "cell_type": "code",
   "execution_count": null,
   "metadata": {},
   "outputs": [],
   "source": [
    "patients = get_patients_pcr_positives()\n",
    "\n",
    "my_patient_status = patients[patients['age'] >= 18]\n",
    "my_patient_status = my_patient_status[my_patient_status['sex'] == 'female']\n",
    "\n",
    "my_patient_status.plot_model('graph.png')"
   ]
  },
  {
   "cell_type": "markdown",
   "metadata": {},
   "source": [
    "# Fonctionnalité de choix de version de règles"
   ]
  },
  {
   "cell_type": "code",
   "execution_count": null,
   "metadata": {},
   "outputs": [],
   "source": [
    "@Rule(name='my_custom_override_select_with_age')\n",
    "def my_custom_override_select_with_age(df):\n",
    "    df.loc[df['age'].isna(), 'age'] = df['age'].mean()\n",
    "    \n",
    "    return df\n",
    "\n",
    "Rule.set_for_reference_name('select_with_age', my_custom_override_select_with_age)\n",
    "\n",
    "patients = get_patients_pcr_positives()\n",
    "\n",
    "my_patient_status = patients[patients['age'] >= 18]\n",
    "my_patient_status = my_patient_status[my_patient_status['sex'] == 'female']\n",
    "\n",
    "my_patient_status.plot_model('graph.png')"
   ]
  },
  {
   "cell_type": "code",
   "execution_count": null,
   "metadata": {},
   "outputs": [],
   "source": [
    "Rule.unset_for_reference_name('select_with_age')"
   ]
  }
 ],
 "metadata": {
  "kernelspec": {
   "display_name": "Python 3",
   "language": "python",
   "name": "python3"
  },
  "language_info": {
   "codemirror_mode": {
    "name": "ipython",
    "version": 3
   },
   "file_extension": ".py",
   "mimetype": "text/x-python",
   "name": "python",
   "nbconvert_exporter": "python",
   "pygments_lexer": "ipython3",
   "version": "3.7.6"
  }
 },
 "nbformat": 4,
 "nbformat_minor": 4
}
