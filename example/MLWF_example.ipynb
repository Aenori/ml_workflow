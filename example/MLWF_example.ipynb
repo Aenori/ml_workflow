{
 "cells": [
  {
   "cell_type": "markdown",
   "metadata": {},
   "source": [
    "# Présentation POC framework covid19"
   ]
  },
  {
   "cell_type": "markdown",
   "metadata": {},
   "source": [
    "4 fonctionnalités :\n",
    "- transparence\n",
    "- aider à la communication y compris pour des non data-scientist\n",
    "- reproductibilité\n",
    "- fonctionnement \"open\""
   ]
  },
  {
   "cell_type": "markdown",
   "metadata": {},
   "source": [
    "# Import"
   ]
  },
  {
   "cell_type": "code",
   "execution_count": 1,
   "metadata": {},
   "outputs": [],
   "source": [
    "import pandas as pd\n",
    "import numpy as np\n",
    "\n",
    "import os, sys\n",
    "# Adding parent directory to python path\n",
    "sys.path.append(os.path.dirname(os.getcwd()))\n",
    "\n",
    "import ml_workflow\n",
    "from ml_workflow import Rule, DataSource\n",
    "\n",
    "import sqlite3"
   ]
  },
  {
   "cell_type": "markdown",
   "metadata": {},
   "source": [
    "# Pseudo covid 19"
   ]
  },
  {
   "cell_type": "code",
   "execution_count": 2,
   "metadata": {},
   "outputs": [],
   "source": [
    "personnal_data_file = 'data/train.csv'\n",
    "pcr_tests_db = 'data/pcr_tests.db'\n",
    "consultation_db = 'data/consultations.db'\n",
    "\n",
    "\n",
    "@DataSource(name='Personnal data csv file')\n",
    "def retrieve_personnal_data():\n",
    "    return pd.read_csv(personnal_data_file)\n",
    "\n",
    "@DataSource(name='Retrieve pcr tests')\n",
    "def retrieve_pcr_tests():\n",
    "    conn = sqlite3.connect(pcr_tests_db)\n",
    "    return pd.read_sql(\n",
    "        'SELECT id, person_id, pcr_result, test_date FROM pcr_test ORDER BY id',\n",
    "        conn\n",
    "    )\n",
    "\n",
    "@DataSource(name='Retrieve data source')\n",
    "def retrieve_visites():\n",
    "    conn = sqlite3.connect(consultation_db)\n",
    "    return pd.read_sql(\n",
    "        'SELECT id, person_id, services, hospital, consultation_date FROM consultations ORDER BY id',\n",
    "        conn\n",
    "    )\n",
    "\n",
    "@Rule(name='select_with_age', highlight=2)\n",
    "def select_with_age(personnal_df):\n",
    "    return personnal_df[np.logical_not(personnal_df['age'].isna())]\n",
    "        \n",
    "def get_patients_status():\n",
    "    personnal_df = retrieve_personnal_data()\n",
    "    personnal_df = Rule.call_from_reference_name('select_with_age')(personnal_df)\n",
    "        \n",
    "    return personnal_df\n",
    "\n",
    "def get_patients_pcr_positives():\n",
    "    patient_status = get_patients_status()\n",
    "    \n",
    "    tests_pcr = retrieve_pcr_tests()\n",
    "    \n",
    "    with Rule(name='pcr positif'):\n",
    "        tests_pcr = tests_pcr[tests_pcr['pcr_result'] == 'positive']\n",
    "    \n",
    "    with Rule(name='pcr_positif_merge'):\n",
    "        return patient_status.merge(tests_pcr, left_on='id', right_on='person_id')\n",
    "    \n",
    "def get_consultations():\n",
    "    return retrieve_visites()\n"
   ]
  },
  {
   "cell_type": "markdown",
   "metadata": {},
   "source": [
    "## Sqlite3 play-ground"
   ]
  },
  {
   "cell_type": "markdown",
   "metadata": {},
   "source": [
    "## Pandas play-ground"
   ]
  },
  {
   "cell_type": "code",
   "execution_count": 3,
   "metadata": {},
   "outputs": [
    {
     "data": {
      "text/plain": [
       "29.6206862745098"
      ]
     },
     "execution_count": 3,
     "metadata": {},
     "output_type": "execute_result"
    }
   ],
   "source": [
    "get_patients_status()['age'].mean()"
   ]
  },
  {
   "cell_type": "markdown",
   "metadata": {},
   "source": [
    "# User code"
   ]
  },
  {
   "cell_type": "code",
   "execution_count": 4,
   "metadata": {},
   "outputs": [
    {
     "data": {
      "image/svg+xml": [
       "<svg height=\"179pt\" viewBox=\"0.00 0.00 148.00 134.25\" width=\"197pt\" xmlns=\"http://www.w3.org/2000/svg\" xmlns:xlink=\"http://www.w3.org/1999/xlink\">\n",
       "<g class=\"graph\" id=\"graph0\" transform=\"rotate(0) translate(4 130.25)\">\n",
       "<title>G</title>\n",
       "<polygon fill=\"#ffffff\" points=\"-4,4 -4,-130.25 144,-130.25 144,4 -4,4\" stroke=\"transparent\"/>\n",
       "<!-- Workflow_node_6 -->\n",
       "<g class=\"node\" id=\"node1\">\n",
       "<title>Workflow_node_6</title>\n",
       "<g id=\"a_node1\"><a xlink:href=\"http://www.google.fr/?q=select_with_age\" xlink:title=\"select_with_age\\nsize : 714\">\n",
       "<polygon fill=\"none\" points=\"122,-38 18,-38 18,0 122,0 122,-38\" stroke=\"#ff0000\"/>\n",
       "<text fill=\"#000000\" font-family=\"Times,serif\" font-size=\"14.00\" text-anchor=\"middle\" x=\"70\" y=\"-22.8\">select_with_age</text>\n",
       "<text fill=\"#000000\" font-family=\"Times,serif\" font-size=\"14.00\" text-anchor=\"middle\" x=\"70\" y=\"-7.8\">size : 714</text>\n",
       "</a>\n",
       "</g>\n",
       "</g>\n",
       "<!-- Workflow_node_2 -->\n",
       "<g class=\"node\" id=\"node2\">\n",
       "<title>Workflow_node_2</title>\n",
       "<g id=\"a_node2\"><a xlink:href=\"http://www.google.fr/?q=Personnal data csv file\" xlink:title=\"Personnal data csv file\\nsize : 891\">\n",
       "<path d=\"M140,-121.6028C140,-124.2363 108.6249,-126.3756 70,-126.3756 31.3751,-126.3756 0,-124.2363 0,-121.6028 0,-121.6028 0,-78.6472 0,-78.6472 0,-76.0137 31.3751,-73.8744 70,-73.8744 108.6249,-73.8744 140,-76.0137 140,-78.6472 140,-78.6472 140,-121.6028 140,-121.6028\" fill=\"none\" stroke=\"#c0c0c0\"/>\n",
       "<path d=\"M140,-121.6028C140,-118.9692 108.6249,-116.8299 70,-116.8299 31.3751,-116.8299 0,-118.9692 0,-121.6028\" fill=\"none\" stroke=\"#c0c0c0\"/>\n",
       "<text fill=\"#000000\" font-family=\"Times,serif\" font-size=\"14.00\" text-anchor=\"middle\" x=\"70\" y=\"-103.925\">Personnal data csv file</text>\n",
       "<text fill=\"#000000\" font-family=\"Times,serif\" font-size=\"14.00\" text-anchor=\"middle\" x=\"70\" y=\"-88.925\">size : 891</text>\n",
       "</a>\n",
       "</g>\n",
       "</g>\n",
       "<!-- Workflow_node_2&#45;&gt;Workflow_node_6 -->\n",
       "<g class=\"edge\" id=\"edge1\">\n",
       "<title>Workflow_node_2-&gt;Workflow_node_6</title>\n",
       "<path d=\"M70,-73.5616C70,-65.4388 70,-56.4623 70,-48.1757\" fill=\"none\" stroke=\"#000000\"/>\n",
       "<polygon fill=\"#000000\" points=\"73.5001,-48.1644 70,-38.1645 66.5001,-48.1645 73.5001,-48.1644\" stroke=\"#000000\"/>\n",
       "</g>\n",
       "</g>\n",
       "</svg>"
      ],
      "text/plain": [
       "<IPython.core.display.SVG object>"
      ]
     },
     "execution_count": 4,
     "metadata": {},
     "output_type": "execute_result"
    }
   ],
   "source": [
    "patient_status = get_patients_status()\n",
    "\n",
    "patient_status.plot_model()"
   ]
  },
  {
   "cell_type": "code",
   "execution_count": 5,
   "metadata": {},
   "outputs": [
    {
     "data": {
      "image/svg+xml": [
       "<svg height=\"278pt\" viewBox=\"0.00 0.00 277.50 208.25\" width=\"370pt\" xmlns=\"http://www.w3.org/2000/svg\" xmlns:xlink=\"http://www.w3.org/1999/xlink\">\n",
       "<g class=\"graph\" id=\"graph0\" transform=\"rotate(0) translate(4 204.25)\">\n",
       "<title>G</title>\n",
       "<polygon fill=\"#ffffff\" points=\"-4,4 -4,-204.25 273.5,-204.25 273.5,4 -4,4\" stroke=\"transparent\"/>\n",
       "<!-- Workflow_node_13 -->\n",
       "<g class=\"node\" id=\"node1\">\n",
       "<title>Workflow_node_13</title>\n",
       "<g id=\"a_node1\"><a xlink:href=\"http://www.google.fr/?q=pcr_positif_merge\" xlink:title=\"pcr_positif_merge\\nsize : 327\">\n",
       "<polygon fill=\"none\" points=\"200,-38 84,-38 84,0 200,0 200,-38\" stroke=\"#c0c0c0\"/>\n",
       "<text fill=\"#000000\" font-family=\"Times,serif\" font-size=\"14.00\" text-anchor=\"middle\" x=\"142\" y=\"-22.8\">pcr_positif_merge</text>\n",
       "<text fill=\"#000000\" font-family=\"Times,serif\" font-size=\"14.00\" text-anchor=\"middle\" x=\"142\" y=\"-7.8\">size : 327</text>\n",
       "</a>\n",
       "</g>\n",
       "</g>\n",
       "<!-- Workflow_node_8 -->\n",
       "<g class=\"node\" id=\"node2\">\n",
       "<title>Workflow_node_8</title>\n",
       "<g id=\"a_node2\"><a xlink:href=\"http://www.google.fr/?q=select_with_age\" xlink:title=\"select_with_age\\nsize : 714\">\n",
       "<polygon fill=\"none\" points=\"141,-112 37,-112 37,-74 141,-74 141,-112\" stroke=\"#ff0000\"/>\n",
       "<text fill=\"#000000\" font-family=\"Times,serif\" font-size=\"14.00\" text-anchor=\"middle\" x=\"89\" y=\"-96.8\">select_with_age</text>\n",
       "<text fill=\"#000000\" font-family=\"Times,serif\" font-size=\"14.00\" text-anchor=\"middle\" x=\"89\" y=\"-81.8\">size : 714</text>\n",
       "</a>\n",
       "</g>\n",
       "</g>\n",
       "<!-- Workflow_node_8&#45;&gt;Workflow_node_13 -->\n",
       "<g class=\"edge\" id=\"edge1\">\n",
       "<title>Workflow_node_8-&gt;Workflow_node_13</title>\n",
       "<path d=\"M102.6488,-73.9432C108.599,-65.6354 115.6897,-55.7352 122.2023,-46.642\" fill=\"none\" stroke=\"#000000\"/>\n",
       "<polygon fill=\"#000000\" points=\"125.2359,-48.4174 128.2132,-38.2495 119.5449,-44.3414 125.2359,-48.4174\" stroke=\"#000000\"/>\n",
       "</g>\n",
       "<!-- Workflow_node_3 -->\n",
       "<g class=\"node\" id=\"node3\">\n",
       "<title>Workflow_node_3</title>\n",
       "<g id=\"a_node3\"><a xlink:href=\"http://www.google.fr/?q=Personnal data csv file\" xlink:title=\"Personnal data csv file\\nsize : 891\">\n",
       "<path d=\"M140,-195.6028C140,-198.2363 108.6249,-200.3756 70,-200.3756 31.3751,-200.3756 0,-198.2363 0,-195.6028 0,-195.6028 0,-152.6472 0,-152.6472 0,-150.0137 31.3751,-147.8744 70,-147.8744 108.6249,-147.8744 140,-150.0137 140,-152.6472 140,-152.6472 140,-195.6028 140,-195.6028\" fill=\"none\" stroke=\"#c0c0c0\"/>\n",
       "<path d=\"M140,-195.6028C140,-192.9692 108.6249,-190.8299 70,-190.8299 31.3751,-190.8299 0,-192.9692 0,-195.6028\" fill=\"none\" stroke=\"#c0c0c0\"/>\n",
       "<text fill=\"#000000\" font-family=\"Times,serif\" font-size=\"14.00\" text-anchor=\"middle\" x=\"70\" y=\"-177.925\">Personnal data csv file</text>\n",
       "<text fill=\"#000000\" font-family=\"Times,serif\" font-size=\"14.00\" text-anchor=\"middle\" x=\"70\" y=\"-162.925\">size : 891</text>\n",
       "</a>\n",
       "</g>\n",
       "</g>\n",
       "<!-- Workflow_node_3&#45;&gt;Workflow_node_8 -->\n",
       "<g class=\"edge\" id=\"edge3\">\n",
       "<title>Workflow_node_3-&gt;Workflow_node_8</title>\n",
       "<path d=\"M76.2213,-147.5616C78.1237,-139.4388 80.2261,-130.4623 82.1669,-122.1757\" fill=\"none\" stroke=\"#000000\"/>\n",
       "<polygon fill=\"#000000\" points=\"85.6389,-122.6992 84.5116,-112.1645 78.8233,-121.1029 85.6389,-122.6992\" stroke=\"#000000\"/>\n",
       "</g>\n",
       "<!-- Workflow_node_10 -->\n",
       "<g class=\"node\" id=\"node4\">\n",
       "<title>Workflow_node_10</title>\n",
       "<g id=\"a_node4\"><a xlink:href=\"http://www.google.fr/?q=pcr positif\" xlink:title=\"pcr positif\\nsize : 409\">\n",
       "<polygon fill=\"none\" points=\"240,-112 168,-112 168,-74 240,-74 240,-112\" stroke=\"#c0c0c0\"/>\n",
       "<text fill=\"#000000\" font-family=\"Times,serif\" font-size=\"14.00\" text-anchor=\"middle\" x=\"204\" y=\"-96.8\">pcr positif</text>\n",
       "<text fill=\"#000000\" font-family=\"Times,serif\" font-size=\"14.00\" text-anchor=\"middle\" x=\"204\" y=\"-81.8\">size : 409</text>\n",
       "</a>\n",
       "</g>\n",
       "</g>\n",
       "<!-- Workflow_node_10&#45;&gt;Workflow_node_13 -->\n",
       "<g class=\"edge\" id=\"edge2\">\n",
       "<title>Workflow_node_10-&gt;Workflow_node_13</title>\n",
       "<path d=\"M188.0335,-73.9432C180.9294,-65.4641 172.4355,-55.3262 164.6891,-46.0806\" fill=\"none\" stroke=\"#000000\"/>\n",
       "<polygon fill=\"#000000\" points=\"167.233,-43.6669 158.1279,-38.2495 161.8673,-48.1625 167.233,-43.6669\" stroke=\"#000000\"/>\n",
       "</g>\n",
       "<!-- Workflow_node_4 -->\n",
       "<g class=\"node\" id=\"node5\">\n",
       "<title>Workflow_node_4</title>\n",
       "<g id=\"a_node5\"><a xlink:href=\"http://www.google.fr/?q=Retrieve pcr tests\" xlink:title=\"Retrieve pcr tests\\nsize : 891\">\n",
       "<path d=\"M269.5,-195.6028C269.5,-198.2363 244.624,-200.3756 214,-200.3756 183.376,-200.3756 158.5,-198.2363 158.5,-195.6028 158.5,-195.6028 158.5,-152.6472 158.5,-152.6472 158.5,-150.0137 183.376,-147.8744 214,-147.8744 244.624,-147.8744 269.5,-150.0137 269.5,-152.6472 269.5,-152.6472 269.5,-195.6028 269.5,-195.6028\" fill=\"none\" stroke=\"#c0c0c0\"/>\n",
       "<path d=\"M269.5,-195.6028C269.5,-192.9692 244.624,-190.8299 214,-190.8299 183.376,-190.8299 158.5,-192.9692 158.5,-195.6028\" fill=\"none\" stroke=\"#c0c0c0\"/>\n",
       "<text fill=\"#000000\" font-family=\"Times,serif\" font-size=\"14.00\" text-anchor=\"middle\" x=\"214\" y=\"-177.925\">Retrieve pcr tests</text>\n",
       "<text fill=\"#000000\" font-family=\"Times,serif\" font-size=\"14.00\" text-anchor=\"middle\" x=\"214\" y=\"-162.925\">size : 891</text>\n",
       "</a>\n",
       "</g>\n",
       "</g>\n",
       "<!-- Workflow_node_4&#45;&gt;Workflow_node_10 -->\n",
       "<g class=\"edge\" id=\"edge4\">\n",
       "<title>Workflow_node_4-&gt;Workflow_node_10</title>\n",
       "<path d=\"M210.7256,-147.5616C209.7244,-139.4388 208.6178,-130.4623 207.5964,-122.1757\" fill=\"none\" stroke=\"#000000\"/>\n",
       "<polygon fill=\"#000000\" points=\"211.0595,-121.6611 206.3623,-112.1645 204.1121,-122.5176 211.0595,-121.6611\" stroke=\"#000000\"/>\n",
       "</g>\n",
       "</g>\n",
       "</svg>"
      ],
      "text/plain": [
       "<IPython.core.display.SVG object>"
      ]
     },
     "execution_count": 5,
     "metadata": {},
     "output_type": "execute_result"
    }
   ],
   "source": [
    "get_patients_pcr_positives().plot_model()"
   ]
  },
  {
   "cell_type": "code",
   "execution_count": 6,
   "metadata": {},
   "outputs": [
    {
     "data": {
      "image/svg+xml": [
       "<svg height=\"376pt\" viewBox=\"0.00 0.00 277.50 282.25\" width=\"370pt\" xmlns=\"http://www.w3.org/2000/svg\" xmlns:xlink=\"http://www.w3.org/1999/xlink\">\n",
       "<g class=\"graph\" id=\"graph0\" transform=\"rotate(0) translate(4 278.25)\">\n",
       "<title>G</title>\n",
       "<polygon fill=\"#ffffff\" points=\"-4,4 -4,-278.25 273.5,-278.25 273.5,4 -4,4\" stroke=\"transparent\"/>\n",
       "<!-- Workflow_node_22 -->\n",
       "<g class=\"node\" id=\"node1\">\n",
       "<title>Workflow_node_22</title>\n",
       "<g id=\"a_node1\"><a xlink:href=\"http://www.google.fr/?q=Unspecified rule\" xlink:title=\"Unspecified rule\\nsize : 86\">\n",
       "<polygon fill=\"none\" points=\"195.5,-38 88.5,-38 88.5,0 195.5,0 195.5,-38\" stroke=\"#c0c0c0\"/>\n",
       "<text fill=\"#000000\" font-family=\"Times,serif\" font-size=\"14.00\" text-anchor=\"middle\" x=\"142\" y=\"-22.8\">Unspecified rule</text>\n",
       "<text fill=\"#000000\" font-family=\"Times,serif\" font-size=\"14.00\" text-anchor=\"middle\" x=\"142\" y=\"-7.8\">size : 86</text>\n",
       "</a>\n",
       "</g>\n",
       "</g>\n",
       "<!-- Workflow_node_20 -->\n",
       "<g class=\"node\" id=\"node2\">\n",
       "<title>Workflow_node_20</title>\n",
       "<g id=\"a_node2\"><a xlink:href=\"http://www.google.fr/?q=pcr_positif_merge\" xlink:title=\"pcr_positif_merge\\nsize : 327\">\n",
       "<polygon fill=\"none\" points=\"200,-112 84,-112 84,-74 200,-74 200,-112\" stroke=\"#c0c0c0\"/>\n",
       "<text fill=\"#000000\" font-family=\"Times,serif\" font-size=\"14.00\" text-anchor=\"middle\" x=\"142\" y=\"-96.8\">pcr_positif_merge</text>\n",
       "<text fill=\"#000000\" font-family=\"Times,serif\" font-size=\"14.00\" text-anchor=\"middle\" x=\"142\" y=\"-81.8\">size : 327</text>\n",
       "</a>\n",
       "</g>\n",
       "</g>\n",
       "<!-- Workflow_node_20&#45;&gt;Workflow_node_22 -->\n",
       "<g class=\"edge\" id=\"edge1\">\n",
       "<title>Workflow_node_20-&gt;Workflow_node_22</title>\n",
       "<path d=\"M142,-73.9432C142,-66.1493 142,-56.9538 142,-48.3381\" fill=\"none\" stroke=\"#000000\"/>\n",
       "<polygon fill=\"#000000\" points=\"145.5001,-48.2494 142,-38.2495 138.5001,-48.2495 145.5001,-48.2494\" stroke=\"#000000\"/>\n",
       "</g>\n",
       "<!-- Workflow_node_15 -->\n",
       "<g class=\"node\" id=\"node3\">\n",
       "<title>Workflow_node_15</title>\n",
       "<g id=\"a_node3\"><a xlink:href=\"http://www.google.fr/?q=select_with_age\" xlink:title=\"select_with_age\\nsize : 714\">\n",
       "<polygon fill=\"none\" points=\"141,-186 37,-186 37,-148 141,-148 141,-186\" stroke=\"#ff0000\"/>\n",
       "<text fill=\"#000000\" font-family=\"Times,serif\" font-size=\"14.00\" text-anchor=\"middle\" x=\"89\" y=\"-170.8\">select_with_age</text>\n",
       "<text fill=\"#000000\" font-family=\"Times,serif\" font-size=\"14.00\" text-anchor=\"middle\" x=\"89\" y=\"-155.8\">size : 714</text>\n",
       "</a>\n",
       "</g>\n",
       "</g>\n",
       "<!-- Workflow_node_15&#45;&gt;Workflow_node_20 -->\n",
       "<g class=\"edge\" id=\"edge2\">\n",
       "<title>Workflow_node_15-&gt;Workflow_node_20</title>\n",
       "<path d=\"M102.6488,-147.9432C108.599,-139.6354 115.6897,-129.7352 122.2023,-120.642\" fill=\"none\" stroke=\"#000000\"/>\n",
       "<polygon fill=\"#000000\" points=\"125.2359,-122.4174 128.2132,-112.2495 119.5449,-118.3414 125.2359,-122.4174\" stroke=\"#000000\"/>\n",
       "</g>\n",
       "<!-- Workflow_node_5 -->\n",
       "<g class=\"node\" id=\"node4\">\n",
       "<title>Workflow_node_5</title>\n",
       "<g id=\"a_node4\"><a xlink:href=\"http://www.google.fr/?q=Personnal data csv file\" xlink:title=\"Personnal data csv file\\nsize : 891\">\n",
       "<path d=\"M140,-269.6028C140,-272.2363 108.6249,-274.3756 70,-274.3756 31.3751,-274.3756 0,-272.2363 0,-269.6028 0,-269.6028 0,-226.6472 0,-226.6472 0,-224.0137 31.3751,-221.8744 70,-221.8744 108.6249,-221.8744 140,-224.0137 140,-226.6472 140,-226.6472 140,-269.6028 140,-269.6028\" fill=\"none\" stroke=\"#c0c0c0\"/>\n",
       "<path d=\"M140,-269.6028C140,-266.9692 108.6249,-264.8299 70,-264.8299 31.3751,-264.8299 0,-266.9692 0,-269.6028\" fill=\"none\" stroke=\"#c0c0c0\"/>\n",
       "<text fill=\"#000000\" font-family=\"Times,serif\" font-size=\"14.00\" text-anchor=\"middle\" x=\"70\" y=\"-251.925\">Personnal data csv file</text>\n",
       "<text fill=\"#000000\" font-family=\"Times,serif\" font-size=\"14.00\" text-anchor=\"middle\" x=\"70\" y=\"-236.925\">size : 891</text>\n",
       "</a>\n",
       "</g>\n",
       "</g>\n",
       "<!-- Workflow_node_5&#45;&gt;Workflow_node_15 -->\n",
       "<g class=\"edge\" id=\"edge4\">\n",
       "<title>Workflow_node_5-&gt;Workflow_node_15</title>\n",
       "<path d=\"M76.2213,-221.5616C78.1237,-213.4388 80.2261,-204.4623 82.1669,-196.1757\" fill=\"none\" stroke=\"#000000\"/>\n",
       "<polygon fill=\"#000000\" points=\"85.6389,-196.6992 84.5116,-186.1645 78.8233,-195.1029 85.6389,-196.6992\" stroke=\"#000000\"/>\n",
       "</g>\n",
       "<!-- Workflow_node_17 -->\n",
       "<g class=\"node\" id=\"node5\">\n",
       "<title>Workflow_node_17</title>\n",
       "<g id=\"a_node5\"><a xlink:href=\"http://www.google.fr/?q=pcr positif\" xlink:title=\"pcr positif\\nsize : 409\">\n",
       "<polygon fill=\"none\" points=\"240,-186 168,-186 168,-148 240,-148 240,-186\" stroke=\"#c0c0c0\"/>\n",
       "<text fill=\"#000000\" font-family=\"Times,serif\" font-size=\"14.00\" text-anchor=\"middle\" x=\"204\" y=\"-170.8\">pcr positif</text>\n",
       "<text fill=\"#000000\" font-family=\"Times,serif\" font-size=\"14.00\" text-anchor=\"middle\" x=\"204\" y=\"-155.8\">size : 409</text>\n",
       "</a>\n",
       "</g>\n",
       "</g>\n",
       "<!-- Workflow_node_17&#45;&gt;Workflow_node_20 -->\n",
       "<g class=\"edge\" id=\"edge3\">\n",
       "<title>Workflow_node_17-&gt;Workflow_node_20</title>\n",
       "<path d=\"M188.0335,-147.9432C180.9294,-139.4641 172.4355,-129.3262 164.6891,-120.0806\" fill=\"none\" stroke=\"#000000\"/>\n",
       "<polygon fill=\"#000000\" points=\"167.233,-117.6669 158.1279,-112.2495 161.8673,-122.1625 167.233,-117.6669\" stroke=\"#000000\"/>\n",
       "</g>\n",
       "<!-- Workflow_node_6 -->\n",
       "<g class=\"node\" id=\"node6\">\n",
       "<title>Workflow_node_6</title>\n",
       "<g id=\"a_node6\"><a xlink:href=\"http://www.google.fr/?q=Retrieve pcr tests\" xlink:title=\"Retrieve pcr tests\\nsize : 891\">\n",
       "<path d=\"M269.5,-269.6028C269.5,-272.2363 244.624,-274.3756 214,-274.3756 183.376,-274.3756 158.5,-272.2363 158.5,-269.6028 158.5,-269.6028 158.5,-226.6472 158.5,-226.6472 158.5,-224.0137 183.376,-221.8744 214,-221.8744 244.624,-221.8744 269.5,-224.0137 269.5,-226.6472 269.5,-226.6472 269.5,-269.6028 269.5,-269.6028\" fill=\"none\" stroke=\"#c0c0c0\"/>\n",
       "<path d=\"M269.5,-269.6028C269.5,-266.9692 244.624,-264.8299 214,-264.8299 183.376,-264.8299 158.5,-266.9692 158.5,-269.6028\" fill=\"none\" stroke=\"#c0c0c0\"/>\n",
       "<text fill=\"#000000\" font-family=\"Times,serif\" font-size=\"14.00\" text-anchor=\"middle\" x=\"214\" y=\"-251.925\">Retrieve pcr tests</text>\n",
       "<text fill=\"#000000\" font-family=\"Times,serif\" font-size=\"14.00\" text-anchor=\"middle\" x=\"214\" y=\"-236.925\">size : 891</text>\n",
       "</a>\n",
       "</g>\n",
       "</g>\n",
       "<!-- Workflow_node_6&#45;&gt;Workflow_node_17 -->\n",
       "<g class=\"edge\" id=\"edge5\">\n",
       "<title>Workflow_node_6-&gt;Workflow_node_17</title>\n",
       "<path d=\"M210.7256,-221.5616C209.7244,-213.4388 208.6178,-204.4623 207.5964,-196.1757\" fill=\"none\" stroke=\"#000000\"/>\n",
       "<polygon fill=\"#000000\" points=\"211.0595,-195.6611 206.3623,-186.1645 204.1121,-196.5176 211.0595,-195.6611\" stroke=\"#000000\"/>\n",
       "</g>\n",
       "</g>\n",
       "</svg>"
      ],
      "text/plain": [
       "<IPython.core.display.SVG object>"
      ]
     },
     "execution_count": 6,
     "metadata": {},
     "output_type": "execute_result"
    }
   ],
   "source": [
    "patients = get_patients_pcr_positives()\n",
    "\n",
    "my_patient_status = patients[patients['age'] >= 18]\n",
    "my_patient_status = my_patient_status[my_patient_status['sex'] == 'female']\n",
    "\n",
    "my_patient_status.plot_model('graph.svg')\n",
    "my_patient_status.plot_model()\n"
   ]
  },
  {
   "cell_type": "code",
   "execution_count": 7,
   "metadata": {},
   "outputs": [
    {
     "data": {
      "image/png": "[encoded data removed]",
      "text/plain": [
       "<IPython.core.display.Image object>"
      ]
     },
     "execution_count": 7,
     "metadata": {},
     "output_type": "execute_result"
    }
   ],
   "source": [
    "patients = get_patients_pcr_positives()\n",
    "\n",
    "with Rule(name='Select adult women'):\n",
    "    my_patient_status = patients[patients['age'] >= 18]\n",
    "    my_patient_status = my_patient_status[my_patient_status['sex'] == 'female']\n",
    "\n",
    "my_patient_status.plot_model('graph.png')"
   ]
  },
  {
   "cell_type": "markdown",
   "metadata": {},
   "source": [
    "## Vérification de contraintes"
   ]
  },
  {
   "cell_type": "code",
   "execution_count": 8,
   "metadata": {},
   "outputs": [
    {
     "name": "stdout",
     "output_type": "stream",
     "text": [
      "True\n",
      "False\n"
     ]
    }
   ],
   "source": [
    "def check_is_called_after(node, rule_name):\n",
    "    if node.origin.name == rule_name:\n",
    "        return True\n",
    "    \n",
    "    for parent in node.parents:\n",
    "        if check_is_called_after(parent, rule_name):\n",
    "            return True\n",
    "        \n",
    "    return False\n",
    "\n",
    "def check_is_called_after_rule(leaf_node, rule_1, rule_2):\n",
    "    if isinstance(leaf_node, pd.DataFrame):\n",
    "        return check_is_called_after_rule(leaf_node.ml_workflow_node, rule_1, rule_2)\n",
    "    \n",
    "    result = True\n",
    "    for node in leaf_node.get_all_nodes():\n",
    "        if node.origin.name == rule_1:\n",
    "            result = result and check_is_called_after(node, rule_2)\n",
    "            \n",
    "    return result\n",
    "\n",
    "print(check_is_called_after_rule(my_patient_status, 'select_with_age', 'Personnal data csv file'))\n",
    "print(check_is_called_after_rule(my_patient_status, 'select_with_age', 'Retrieve pcr tests'))"
   ]
  },
  {
   "cell_type": "markdown",
   "metadata": {},
   "source": [
    "# Fonctionnalité reproductibilité"
   ]
  },
  {
   "cell_type": "code",
   "execution_count": 9,
   "metadata": {},
   "outputs": [],
   "source": [
    "conn = sqlite3.connect(pcr_tests_db)\n",
    "conn.execute(\"UPDATE pcr_test SET pcr_result = 'positive' WHERE pcr_result = 'Positif'\")\n",
    "conn.commit()"
   ]
  },
  {
   "cell_type": "code",
   "execution_count": 10,
   "metadata": {},
   "outputs": [
    {
     "name": "stdout",
     "output_type": "stream",
     "text": [
      "Nb patients : 327\n",
      "Nb patients : 0\n"
     ]
    },
    {
     "name": "stderr",
     "output_type": "stream",
     "text": [
      "/home/nicolas/anaconda3/lib/python3.7/site-packages/pandas/core/generic.py:2530: PerformanceWarning: \n",
      "your performance may suffer as PyTables will pickle object types that it cannot\n",
      "map directly to c-types [inferred_type->mixed,key->block2_values] [items->['name', 'sex', 'ticket', 'cabin', 'embarked']]\n",
      "\n",
      "  pytables.to_hdf(path_or_buf, key, self, **kwargs)\n"
     ]
    },
    {
     "data": {
      "image/png": "[encoded data removed]",
      "text/plain": [
       "<IPython.core.display.Image object>"
      ]
     },
     "execution_count": 10,
     "metadata": {},
     "output_type": "execute_result"
    }
   ],
   "source": [
    "from ml_workflow.session import Session   \n",
    "    \n",
    "\n",
    "\n",
    "with Session.record_data_source('temp/test_session_record'):\n",
    "    patients = get_patients_pcr_positives()\n",
    "\n",
    "print(f\"Nb patients : {len(patients)}\")\n",
    "\n",
    "conn = sqlite3.connect(pcr_tests_db)\n",
    "conn.execute(\"UPDATE pcr_test SET pcr_result = 'Positif' WHERE pcr_result = 'positive'\")\n",
    "conn.commit()\n",
    "\n",
    "patients = get_patients_pcr_positives()\n",
    "print(f\"Nb patients : {len(patients)}\")\n",
    "\n",
    "patients.plot_model('graph.png')"
   ]
  },
  {
   "cell_type": "code",
   "execution_count": 11,
   "metadata": {},
   "outputs": [
    {
     "name": "stdout",
     "output_type": "stream",
     "text": [
      "Nb patients : 327\n"
     ]
    }
   ],
   "source": [
    "with Session.play_data_source_record('temp/test_session_record'):\n",
    "    patients = get_patients_pcr_positives()\n",
    "    \n",
    "print(f\"Nb patients : {len(patients)}\")"
   ]
  },
  {
   "cell_type": "code",
   "execution_count": 12,
   "metadata": {},
   "outputs": [
    {
     "data": {
      "image/svg+xml": [
       "<svg height=\"278pt\" viewBox=\"0.00 0.00 277.50 208.25\" width=\"370pt\" xmlns=\"http://www.w3.org/2000/svg\" xmlns:xlink=\"http://www.w3.org/1999/xlink\">\n",
       "<g class=\"graph\" id=\"graph0\" transform=\"rotate(0) translate(4 204.25)\">\n",
       "<title>G</title>\n",
       "<polygon fill=\"#ffffff\" points=\"-4,4 -4,-204.25 273.5,-204.25 273.5,4 -4,4\" stroke=\"transparent\"/>\n",
       "<!-- Workflow_node_52 -->\n",
       "<g class=\"node\" id=\"node1\">\n",
       "<title>Workflow_node_52</title>\n",
       "<g id=\"a_node1\"><a xlink:href=\"http://www.google.fr/?q=pcr_positif_merge\" xlink:title=\"pcr_positif_merge\\nsize : 327\">\n",
       "<polygon fill=\"none\" points=\"200,-38 84,-38 84,0 200,0 200,-38\" stroke=\"#c0c0c0\"/>\n",
       "<text fill=\"#000000\" font-family=\"Times,serif\" font-size=\"14.00\" text-anchor=\"middle\" x=\"142\" y=\"-22.8\">pcr_positif_merge</text>\n",
       "<text fill=\"#000000\" font-family=\"Times,serif\" font-size=\"14.00\" text-anchor=\"middle\" x=\"142\" y=\"-7.8\">size : 327</text>\n",
       "</a>\n",
       "</g>\n",
       "</g>\n",
       "<!-- Workflow_node_47 -->\n",
       "<g class=\"node\" id=\"node2\">\n",
       "<title>Workflow_node_47</title>\n",
       "<g id=\"a_node2\"><a xlink:href=\"http://www.google.fr/?q=select_with_age\" xlink:title=\"select_with_age\\nsize : 714\">\n",
       "<polygon fill=\"none\" points=\"141,-112 37,-112 37,-74 141,-74 141,-112\" stroke=\"#ff0000\"/>\n",
       "<text fill=\"#000000\" font-family=\"Times,serif\" font-size=\"14.00\" text-anchor=\"middle\" x=\"89\" y=\"-96.8\">select_with_age</text>\n",
       "<text fill=\"#000000\" font-family=\"Times,serif\" font-size=\"14.00\" text-anchor=\"middle\" x=\"89\" y=\"-81.8\">size : 714</text>\n",
       "</a>\n",
       "</g>\n",
       "</g>\n",
       "<!-- Workflow_node_47&#45;&gt;Workflow_node_52 -->\n",
       "<g class=\"edge\" id=\"edge1\">\n",
       "<title>Workflow_node_47-&gt;Workflow_node_52</title>\n",
       "<path d=\"M102.6488,-73.9432C108.599,-65.6354 115.6897,-55.7352 122.2023,-46.642\" fill=\"none\" stroke=\"#000000\"/>\n",
       "<polygon fill=\"#000000\" points=\"125.2359,-48.4174 128.2132,-38.2495 119.5449,-44.3414 125.2359,-48.4174\" stroke=\"#000000\"/>\n",
       "</g>\n",
       "<!-- Workflow_node_13 -->\n",
       "<g class=\"node\" id=\"node3\">\n",
       "<title>Workflow_node_13</title>\n",
       "<g id=\"a_node3\"><a xlink:href=\"http://www.google.fr/?q=Personnal data csv file\" xlink:title=\"Personnal data csv file\\nsize : 891\">\n",
       "<path d=\"M140,-195.6028C140,-198.2363 108.6249,-200.3756 70,-200.3756 31.3751,-200.3756 0,-198.2363 0,-195.6028 0,-195.6028 0,-152.6472 0,-152.6472 0,-150.0137 31.3751,-147.8744 70,-147.8744 108.6249,-147.8744 140,-150.0137 140,-152.6472 140,-152.6472 140,-195.6028 140,-195.6028\" fill=\"none\" stroke=\"#c0c0c0\"/>\n",
       "<path d=\"M140,-195.6028C140,-192.9692 108.6249,-190.8299 70,-190.8299 31.3751,-190.8299 0,-192.9692 0,-195.6028\" fill=\"none\" stroke=\"#c0c0c0\"/>\n",
       "<text fill=\"#000000\" font-family=\"Times,serif\" font-size=\"14.00\" text-anchor=\"middle\" x=\"70\" y=\"-177.925\">Personnal data csv file</text>\n",
       "<text fill=\"#000000\" font-family=\"Times,serif\" font-size=\"14.00\" text-anchor=\"middle\" x=\"70\" y=\"-162.925\">size : 891</text>\n",
       "</a>\n",
       "</g>\n",
       "</g>\n",
       "<!-- Workflow_node_13&#45;&gt;Workflow_node_47 -->\n",
       "<g class=\"edge\" id=\"edge3\">\n",
       "<title>Workflow_node_13-&gt;Workflow_node_47</title>\n",
       "<path d=\"M76.2213,-147.5616C78.1237,-139.4388 80.2261,-130.4623 82.1669,-122.1757\" fill=\"none\" stroke=\"#000000\"/>\n",
       "<polygon fill=\"#000000\" points=\"85.6389,-122.6992 84.5116,-112.1645 78.8233,-121.1029 85.6389,-122.6992\" stroke=\"#000000\"/>\n",
       "</g>\n",
       "<!-- Workflow_node_49 -->\n",
       "<g class=\"node\" id=\"node4\">\n",
       "<title>Workflow_node_49</title>\n",
       "<g id=\"a_node4\"><a xlink:href=\"http://www.google.fr/?q=pcr positif\" xlink:title=\"pcr positif\\nsize : 409\">\n",
       "<polygon fill=\"none\" points=\"240,-112 168,-112 168,-74 240,-74 240,-112\" stroke=\"#c0c0c0\"/>\n",
       "<text fill=\"#000000\" font-family=\"Times,serif\" font-size=\"14.00\" text-anchor=\"middle\" x=\"204\" y=\"-96.8\">pcr positif</text>\n",
       "<text fill=\"#000000\" font-family=\"Times,serif\" font-size=\"14.00\" text-anchor=\"middle\" x=\"204\" y=\"-81.8\">size : 409</text>\n",
       "</a>\n",
       "</g>\n",
       "</g>\n",
       "<!-- Workflow_node_49&#45;&gt;Workflow_node_52 -->\n",
       "<g class=\"edge\" id=\"edge2\">\n",
       "<title>Workflow_node_49-&gt;Workflow_node_52</title>\n",
       "<path d=\"M188.0335,-73.9432C180.9294,-65.4641 172.4355,-55.3262 164.6891,-46.0806\" fill=\"none\" stroke=\"#000000\"/>\n",
       "<polygon fill=\"#000000\" points=\"167.233,-43.6669 158.1279,-38.2495 161.8673,-48.1625 167.233,-43.6669\" stroke=\"#000000\"/>\n",
       "</g>\n",
       "<!-- Workflow_node_14 -->\n",
       "<g class=\"node\" id=\"node5\">\n",
       "<title>Workflow_node_14</title>\n",
       "<g id=\"a_node5\"><a xlink:href=\"http://www.google.fr/?q=Retrieve pcr tests\" xlink:title=\"Retrieve pcr tests\\nsize : 891\">\n",
       "<path d=\"M269.5,-195.6028C269.5,-198.2363 244.624,-200.3756 214,-200.3756 183.376,-200.3756 158.5,-198.2363 158.5,-195.6028 158.5,-195.6028 158.5,-152.6472 158.5,-152.6472 158.5,-150.0137 183.376,-147.8744 214,-147.8744 244.624,-147.8744 269.5,-150.0137 269.5,-152.6472 269.5,-152.6472 269.5,-195.6028 269.5,-195.6028\" fill=\"none\" stroke=\"#c0c0c0\"/>\n",
       "<path d=\"M269.5,-195.6028C269.5,-192.9692 244.624,-190.8299 214,-190.8299 183.376,-190.8299 158.5,-192.9692 158.5,-195.6028\" fill=\"none\" stroke=\"#c0c0c0\"/>\n",
       "<text fill=\"#000000\" font-family=\"Times,serif\" font-size=\"14.00\" text-anchor=\"middle\" x=\"214\" y=\"-177.925\">Retrieve pcr tests</text>\n",
       "<text fill=\"#000000\" font-family=\"Times,serif\" font-size=\"14.00\" text-anchor=\"middle\" x=\"214\" y=\"-162.925\">size : 891</text>\n",
       "</a>\n",
       "</g>\n",
       "</g>\n",
       "<!-- Workflow_node_14&#45;&gt;Workflow_node_49 -->\n",
       "<g class=\"edge\" id=\"edge4\">\n",
       "<title>Workflow_node_14-&gt;Workflow_node_49</title>\n",
       "<path d=\"M210.7256,-147.5616C209.7244,-139.4388 208.6178,-130.4623 207.5964,-122.1757\" fill=\"none\" stroke=\"#000000\"/>\n",
       "<polygon fill=\"#000000\" points=\"211.0595,-121.6611 206.3623,-112.1645 204.1121,-122.5176 211.0595,-121.6611\" stroke=\"#000000\"/>\n",
       "</g>\n",
       "</g>\n",
       "</svg>"
      ],
      "text/plain": [
       "<IPython.core.display.SVG object>"
      ]
     },
     "execution_count": 12,
     "metadata": {},
     "output_type": "execute_result"
    }
   ],
   "source": [
    "patients.plot_model()"
   ]
  },
  {
   "cell_type": "markdown",
   "metadata": {},
   "source": [
    "## Cleaning db for the other cells"
   ]
  },
  {
   "cell_type": "code",
   "execution_count": 13,
   "metadata": {},
   "outputs": [],
   "source": [
    "conn = sqlite3.connect(pcr_tests_db)\n",
    "conn.execute(\"UPDATE pcr_test SET pcr_result = 'positive' WHERE pcr_result = 'Positif'\")\n",
    "conn.commit()"
   ]
  },
  {
   "cell_type": "markdown",
   "metadata": {},
   "source": [
    "# Fonctionnalité versionning"
   ]
  },
  {
   "cell_type": "code",
   "execution_count": 14,
   "metadata": {},
   "outputs": [
    {
     "data": {
      "image/png": "[encoded data removed]",
      "text/plain": [
       "<IPython.core.display.Image object>"
      ]
     },
     "execution_count": 14,
     "metadata": {},
     "output_type": "execute_result"
    }
   ],
   "source": [
    "patients = get_patients_pcr_positives()\n",
    "\n",
    "my_patient_status = patients[patients['age'] >= 18]\n",
    "my_patient_status = my_patient_status[my_patient_status['sex'] == 'female']\n",
    "\n",
    "my_patient_status.plot_model('graph.png')"
   ]
  },
  {
   "cell_type": "markdown",
   "metadata": {},
   "source": [
    "# Fonctionnalité de choix de version de règles"
   ]
  },
  {
   "cell_type": "code",
   "execution_count": 15,
   "metadata": {},
   "outputs": [
    {
     "data": {
      "image/png": "[encoded data removed]",
      "text/plain": [
       "<IPython.core.display.Image object>"
      ]
     },
     "execution_count": 15,
     "metadata": {},
     "output_type": "execute_result"
    }
   ],
   "source": [
    "@Rule(name='my_custom_override_select_with_age')\n",
    "def my_custom_override_select_with_age(df):\n",
    "    df.loc[df['age'].isna(), 'age'] = df['age'].mean()\n",
    "    \n",
    "    return df\n",
    "\n",
    "Rule.set_for_reference_name('select_with_age', my_custom_override_select_with_age)\n",
    "\n",
    "patients = get_patients_pcr_positives()\n",
    "\n",
    "my_patient_status = patients[patients['age'] >= 18]\n",
    "my_patient_status = my_patient_status[my_patient_status['sex'] == 'female']\n",
    "\n",
    "my_patient_status.plot_model('graph.png')"
   ]
  },
  {
   "cell_type": "code",
   "execution_count": 1,
   "metadata": {},
   "outputs": [
    {
     "data": {
      "text/plain": [
       "'/home/nicolas/AP_HP/ml_workflow/example'"
      ]
     },
     "execution_count": 1,
     "metadata": {},
     "output_type": "execute_result"
    }
   ],
   "source": [
    "import os\n",
    "os.getcwd()"
   ]
  },
  {
   "cell_type": "code",
   "execution_count": 2,
   "metadata": {},
   "outputs": [],
   "source": [
    "filename = '/home/nicolas/AP_HP/ml_workflow/ml_workflow_graph_detail_20200101_000000/test_rule.html'\n",
    "with open(filename, 'r') as f:\n",
    "    html_content = f.read()"
   ]
  },
  {
   "cell_type": "code",
   "execution_count": 3,
   "metadata": {},
   "outputs": [
    {
     "data": {
      "text/html": [
       "<!DOCTYPE html>\n",
       "<html lang=\"fr\">\n",
       "<head>\n",
       "    <title>test_rule</title>\n",
       "</head>\n",
       "<body>\n",
       "    <h1>Documentation pour test_rule</h1>\n",
       "    \n",
       "    <div>\n",
       "        <div class=\"card-header\">\n",
       "        <h2>Function documentation</h2>\n",
       "    </div>\n",
       "    <div class=\"cm-s-ipython\">\n",
       "        <pre>test_rule doc string</pre>\n",
       "    </div>\n",
       "    </div>\n",
       "    \n",
       "    <div>\n",
       "        <div class=\"card-header\">\n",
       "        <h2>Function code</h2>\n",
       "    </div>\n",
       "    <div class=\"cm-s-ipython\">\n",
       "        <pre><code>@Rule(name = 'test_rule')\n",
       "def rule_test(df):\n",
       "    \"\"\"test_rule doc string\"\"\"\n",
       "    df['C'] = df['A'] + df['B']\n",
       "    ExecutionContext.log(\"This is a log\")\n",
       "    return df\n",
       "</code></pre>\n",
       "    </div>\n",
       "    </div>\n",
       "    \n",
       "    <div>\n",
       "        <div class=\"card-header\">\n",
       "        <h2>Stats</h2>\n",
       "    </div>\n",
       "    <div class=\"cm-s-ipython\">\n",
       "        <pre>duration => 0.001</pre>\n",
       "    </div>\n",
       "    </div>\n",
       "    \n",
       "    <div>\n",
       "        <div class=\"card-header\">\n",
       "        <h2>Logs</h2>\n",
       "    </div>\n",
       "    <div class=\"cm-s-ipython\">\n",
       "        <pre>This is a log</pre>\n",
       "    </div>\n",
       "    </div>\n",
       "    \n",
       "</body>\n",
       "</html>"
      ],
      "text/plain": [
       "<IPython.core.display.HTML object>"
      ]
     },
     "execution_count": 3,
     "metadata": {},
     "output_type": "execute_result"
    }
   ],
   "source": [
    "from IPython.core.display import display, HTML\n",
    "HTML(html_content)"
   ]
  },
  {
   "cell_type": "code",
   "execution_count": 1,
   "metadata": {},
   "outputs": [],
   "source": [
    "import os, sys\n",
    "sys.path.append('..')\n",
    "import ml_workflow.helper"
   ]
  },
  {
   "cell_type": "code",
   "execution_count": 3,
   "metadata": {},
   "outputs": [
    {
     "name": "stdout",
     "output_type": "stream",
     "text": [
      "['.ipynb_checkpoints', 'data', 'temp', 'ml_workflow_20201115_195223', 'ml_workflow_graph_detail_20200101_000000', '.pytest_cache']\n"
     ]
    },
    {
     "data": {
      "text/html": [
       "<!DOCTYPE html>\n",
       "<html lang=\"fr\">\n",
       "<head>\n",
       "    <title>test_rule</title>\n",
       "</head>\n",
       "<body>\n",
       "    <h1>Documentation pour test_rule</h1>\n",
       "    \n",
       "    <div>\n",
       "        <div class=\"card-header\">\n",
       "        <h2>Function documentation</h2>\n",
       "    </div>\n",
       "    <div class=\"cm-s-ipython\">\n",
       "        <pre>test_rule doc string</pre>\n",
       "    </div>\n",
       "    </div>\n",
       "    \n",
       "    <div>\n",
       "        <div class=\"card-header\">\n",
       "        <h2>Function code</h2>\n",
       "    </div>\n",
       "    <div class=\"cm-s-ipython\">\n",
       "        <pre><code>@Rule(name = 'test_rule')\n",
       "def rule_test(df):\n",
       "    \"\"\"test_rule doc string\"\"\"\n",
       "    df['C'] = df['A'] + df['B']\n",
       "    ExecutionContext.log(\"This is a log\")\n",
       "    return df\n",
       "</code></pre>\n",
       "    </div>\n",
       "    </div>\n",
       "    \n",
       "    <div>\n",
       "        <div class=\"card-header\">\n",
       "        <h2>Stats</h2>\n",
       "    </div>\n",
       "    <div class=\"cm-s-ipython\">\n",
       "        <pre>duration => 0.001</pre>\n",
       "    </div>\n",
       "    </div>\n",
       "    \n",
       "    <div>\n",
       "        <div class=\"card-header\">\n",
       "        <h2>Logs</h2>\n",
       "    </div>\n",
       "    <div class=\"cm-s-ipython\">\n",
       "        <pre>This is a log</pre>\n",
       "    </div>\n",
       "    </div>\n",
       "    \n",
       "</body>\n",
       "</html>"
      ],
      "text/plain": [
       "<IPython.core.display.HTML object>"
      ]
     },
     "execution_count": 3,
     "metadata": {},
     "output_type": "execute_result"
    }
   ],
   "source": [
    "ml_workflow.helper.show_last_logs('test_rule')"
   ]
  },
  {
   "cell_type": "code",
   "execution_count": null,
   "metadata": {},
   "outputs": [],
   "source": []
  }
 ],
 "metadata": {
  "kernelspec": {
   "display_name": "Python 3",
   "language": "python",
   "name": "python3"
  },
  "language_info": {
   "codemirror_mode": {
    "name": "ipython",
    "version": 3
   },
   "file_extension": ".py",
   "mimetype": "text/x-python",
   "name": "python",
   "nbconvert_exporter": "python",
   "pygments_lexer": "ipython3",
   "version": "3.7.6"
  }
 },
 "nbformat": 4,
 "nbformat_minor": 4
}
