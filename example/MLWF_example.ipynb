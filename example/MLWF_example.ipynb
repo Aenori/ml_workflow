{
 "cells": [
  {
   "cell_type": "code",
   "execution_count": 1,
   "metadata": {},
   "outputs": [],
   "source": [
    "import pandas as pd\n",
    "import numpy as np\n",
    "\n",
    "import os, sys\n",
    "# Adding parent directory to python path\n",
    "sys.path.append(os.path.dirname(os.getcwd()))\n",
    "\n",
    "import ml_workflow\n",
    "from ml_workflow.rule import Rule\n",
    "\n",
    "import sqlite3"
   ]
  },
  {
   "cell_type": "code",
   "execution_count": 2,
   "metadata": {},
   "outputs": [
    {
     "name": "stdout",
     "output_type": "stream",
     "text": [
      "Personnal data csv file\n"
     ]
    },
    {
     "data": {
      "image/png": "[encoded data removed]",
      "text/plain": [
       "<IPython.core.display.Image object>"
      ]
     },
     "execution_count": 2,
     "metadata": {},
     "output_type": "execute_result"
    }
   ],
   "source": [
    "@ml_workflow.mlwf_data_source(name='Personnal data csv file')\n",
    "def retrieve_personnal_data():\n",
    "    return pd.read_csv('data/train.csv')\n",
    "\n",
    "@ml_workflow.mlwf_data_source()\n",
    "def retrieve_pcr_tests():\n",
    "    pass\n",
    "\n",
    "@ml_workflow.mlwf_data_source()\n",
    "def retrieve_visites():\n",
    "    pass\n",
    "\n",
    "def get_patients_status():\n",
    "    personnal_df = retrieve_personnal_data()\n",
    "    print(personnal_df.ml_workflow_current_node.origin)\n",
    "    with Rule(name='select_with_age', highlight=2):\n",
    "        personnal_df = personnal_df[np.logical_not(personnal_df['Age'].isna())]\n",
    "        \n",
    "    return personnal_df\n",
    "\n",
    "df = get_patients_status()\n",
    "df.plot_model('graph.png')"
   ]
  },
  {
   "cell_type": "code",
   "execution_count": 3,
   "metadata": {},
   "outputs": [
    {
     "name": "stdout",
     "output_type": "stream",
     "text": [
      "/home/nicolas/AP_HP/ml_workflow/example\n"
     ]
    },
    {
     "data": {
      "text/plain": [
       "['extra_data.db', 'train.csv']"
      ]
     },
     "execution_count": 3,
     "metadata": {},
     "output_type": "execute_result"
    }
   ],
   "source": [
    "import os\n",
    "print(os.getcwd())\n",
    "os.listdir('data')"
   ]
  },
  {
   "cell_type": "code",
   "execution_count": null,
   "metadata": {},
   "outputs": [],
   "source": []
  }
 ],
 "metadata": {
  "kernelspec": {
   "display_name": "Python 3",
   "language": "python",
   "name": "python3"
  },
  "language_info": {
   "codemirror_mode": {
    "name": "ipython",
    "version": 3
   },
   "file_extension": ".py",
   "mimetype": "text/x-python",
   "name": "python",
   "nbconvert_exporter": "python",
   "pygments_lexer": "ipython3",
   "version": "3.7.6"
  }
 },
 "nbformat": 4,
 "nbformat_minor": 4
}
