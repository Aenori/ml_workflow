{
 "cells": [
  {
   "cell_type": "markdown",
   "metadata": {},
   "source": [
    "# Import"
   ]
  },
  {
   "cell_type": "code",
   "execution_count": 1,
   "metadata": {},
   "outputs": [],
   "source": [
    "import pandas as pd\n",
    "import numpy as np\n",
    "\n",
    "import os, sys\n",
    "# Adding parent directory to python path\n",
    "sys.path.append(os.path.dirname(os.getcwd()))\n",
    "\n",
    "import ml_workflow\n",
    "from ml_workflow.rule import Rule\n",
    "\n",
    "import sqlite3"
   ]
  },
  {
   "cell_type": "markdown",
   "metadata": {},
   "source": [
    "# Pseudo covid 19"
   ]
  },
  {
   "cell_type": "code",
   "execution_count": 2,
   "metadata": {},
   "outputs": [
    {
     "ename": "SyntaxError",
     "evalue": "unexpected EOF while parsing (<ipython-input-2-6f4d3ac3739e>, line 47)",
     "output_type": "error",
     "traceback": [
      "\u001b[0;36m  File \u001b[0;32m\"<ipython-input-2-6f4d3ac3739e>\"\u001b[0;36m, line \u001b[0;32m47\u001b[0m\n\u001b[0;31m    \u001b[0m\n\u001b[0m    ^\u001b[0m\n\u001b[0;31mSyntaxError\u001b[0m\u001b[0;31m:\u001b[0m unexpected EOF while parsing\n"
     ]
    }
   ],
   "source": [
    "personnal_data_file = 'data/train.csv'\n",
    "pcr_tests_db = 'data/pcr_tests.db'\n",
    "consultation_db = 'data/consultations.db'\n",
    "\n",
    "\n",
    "@ml_workflow.mlwf_data_source(name='Personnal data csv file')\n",
    "def retrieve_personnal_data():\n",
    "    return pd.read_csv(personnal_data_file)\n",
    "\n",
    "@ml_workflow.mlwf_data_source(name='Retrieve pcr tests')\n",
    "def retrieve_pcr_tests():\n",
    "    conn = sqlite3.connect(pcr_tests_db)\n",
    "    return pd.read_sql(\n",
    "        'SELECT id, person_id, pcr_result, test_date FROM pcr_test ORDER BY id',\n",
    "        conn\n",
    "    )\n",
    "\n",
    "@ml_workflow.mlwf_data_source(name='Retrieve data source')\n",
    "def retrieve_visites():\n",
    "    conn = sqlite3.connect(consultation_db)\n",
    "    return pd.read_sql(\n",
    "        'SELECT id, person_id, services, hospital, consultation_date FROM consultations ORDER BY id',\n",
    "        conn\n",
    "    )\n",
    "\n",
    "def get_patients_status():\n",
    "    personnal_df = retrieve_personnal_data()\n",
    "    print(personnal_df.ml_workflow_current_node.origin)\n",
    "    \n",
    "    with Rule(name='select_with_age', highlight=2):\n",
    "        personnal_df = personnal_df[np.logical_not(personnal_df['age'].isna())]\n",
    "        \n",
    "    return personnal_df\n",
    "\n",
    "def get_patients_pcr_positives():\n",
    "    patient_status = get_patients_status()\n",
    "    \n",
    "    tests_pcr = retrieve_pcr_tests()\n",
    "    \n",
    "    with Rule(name='pcr positif'):\n",
    "        tests_pcr = tests_pcr[tests_pcr['pcr_result'] == 'positive']\n",
    "    \n",
    "    with Rule(name='pcr_positif_merge'):\n",
    "        return patient_status.merge(tests_pcr, left_on='id', right_on='person_id')\n",
    "    \n",
    "def get_consultations():\n",
    "    return retrieve_visites()\n"
   ]
  },
  {
   "cell_type": "markdown",
   "metadata": {},
   "source": [
    "## Sqlite3 play-ground"
   ]
  },
  {
   "cell_type": "markdown",
   "metadata": {},
   "source": [
    "## Pandas play-ground"
   ]
  },
  {
   "cell_type": "markdown",
   "metadata": {},
   "source": [
    "# User code"
   ]
  },
  {
   "cell_type": "code",
   "execution_count": null,
   "metadata": {},
   "outputs": [],
   "source": [
    "patient_status = get_patients_status()\n",
    "\n",
    "patient_status.plot_model('graph.svg')\n",
    "patient_status.plot_model('graph.png')"
   ]
  },
  {
   "cell_type": "code",
   "execution_count": null,
   "metadata": {},
   "outputs": [],
   "source": [
    "get_patients_pcr_positives().plot_model('graph.png')"
   ]
  },
  {
   "cell_type": "code",
   "execution_count": null,
   "metadata": {},
   "outputs": [],
   "source": [
    "my_patient_status = patient_status[patient_status['age'] >= 18]\n",
    "my_patient_status = my_patient_status[my_patient_status['sex'] == 'female']\n",
    "\n",
    "my_patient_status.plot_model('graph.png')"
   ]
  },
  {
   "cell_type": "code",
   "execution_count": null,
   "metadata": {},
   "outputs": [],
   "source": [
    "import os\n",
    "print(os.getcwd())\n",
    "os.listdir('data')"
   ]
  },
  {
   "cell_type": "code",
   "execution_count": null,
   "metadata": {},
   "outputs": [],
   "source": []
  }
 ],
 "metadata": {
  "kernelspec": {
   "display_name": "Python 3",
   "language": "python",
   "name": "python3"
  },
  "language_info": {
   "codemirror_mode": {
    "name": "ipython",
    "version": 3
   },
   "file_extension": ".py",
   "mimetype": "text/x-python",
   "name": "python",
   "nbconvert_exporter": "python",
   "pygments_lexer": "ipython3",
   "version": "3.7.6"
  }
 },
 "nbformat": 4,
 "nbformat_minor": 4
}
