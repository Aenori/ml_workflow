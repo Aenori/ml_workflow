{
 "cells": [
  {
   "cell_type": "code",
   "execution_count": 14,
   "metadata": {},
   "outputs": [],
   "source": [
    "import pandas as pd\n",
    "import numpy as np\n",
    "\n",
    "import os, sys\n",
    "# Adding parent directory to python path\n",
    "sys.path.append(os.path.dirname(os.getcwd()))\n",
    "\n",
    "from ml_workflow import mlwf_rule, mlwf_data_source\n",
    "import ml_workflow\n",
    "\n",
    "import sqlite3\n",
    "\n",
    "DB_FILE_NAME = 'data/extra_data.db'"
   ]
  },
  {
   "cell_type": "code",
   "execution_count": 3,
   "metadata": {},
   "outputs": [],
   "source": [
    "os.remove(DB_FILE_NAME)"
   ]
  },
  {
   "cell_type": "markdown",
   "metadata": {},
   "source": [
    "Execute this cell only if the data/extra_data.db doesn't exist"
   ]
  },
  {
   "cell_type": "code",
   "execution_count": 4,
   "metadata": {},
   "outputs": [],
   "source": [
    "import random\n",
    "\n",
    "conn = sqlite3.connect(DB_FILE_NAME)\n",
    "\n",
    "conn.execute(\"\"\"\n",
    "CREATE TABLE IF NOT EXISTS passenger_hair_color (\n",
    "    PassengerId int PRIMARY KEY,\n",
    "    HairColor int NOT NULL\n",
    ");\n",
    "\"\"\")\n",
    "\n",
    "for i in range(1, 892):\n",
    "    conn.execute(\n",
    "        \"INSERT INTO passenger_hair_color(PassengerId, HairColor) VALUES(?, ?);\",\n",
    "        (i, random.randint(0, 3))\n",
    "    )\n",
    "    conn.commit()\n",
    "\n",
    "conn.execute(\"\"\"\n",
    "CREATE TABLE IF NOT EXISTS passenger_is_leonardo_di_caprio (\n",
    "    PassengerId int PRIMARY KEY,\n",
    "    IsLeonardoDiCaprio boolean NOT NULL\n",
    ");\n",
    "\"\"\")\n",
    "\n",
    "conn.execute(\"INSERT INTO passenger_is_leonardo_di_caprio(PassengerId, IsLeonardoDiCaprio) \\\n",
    "              SELECT PassengerId,  PassengerId = 852 FROM passenger_hair_color;\");\n",
    "conn.commit();"
   ]
  },
  {
   "cell_type": "code",
   "execution_count": null,
   "metadata": {},
   "outputs": [],
   "source": [
    "sqlite3.connect(DB_FILE_NAME).execute(\"SELECT PassengerId, HairColor FROM passenger_hair_color;\").fetchall()"
   ]
  },
  {
   "cell_type": "code",
   "execution_count": 15,
   "metadata": {},
   "outputs": [],
   "source": [
    "# ml_workflow.pandas_link.override_pandas_functions()\n",
    "\n",
    "conn = sqlite3.connect(DB_FILE_NAME)\n",
    "\n",
    "@mlwf_data_source(source_type = 'file', source = 'data/train.csv')\n",
    "def read_input_file():\n",
    "    return pd.read_csv('data/train.csv')\n",
    "\n",
    "@mlwf_data_source(source_type = 'db', source = 'extra_data')\n",
    "def read_hair_data():    \n",
    "    return pd.read_sql(\"SELECT PassengerId, HairColor \\\n",
    "                        FROM passenger_hair_color;\",\n",
    "                       conn\n",
    "                      ) \n",
    "\n",
    "@mlwf_rule\n",
    "def remove_name(data_set):\n",
    "    data_set.drop('Name', inplace=True, axis = 1)\n",
    "\n",
    "@mlwf_rule    \n",
    "def manage_age(data_set):\n",
    "    data_set['NoAge'] = data_set['Age'].isna().astype(int)\n",
    "    data_set.loc[data_set['Age'].isna(), 'Age'] = data_set['Age'].mean()\n",
    "\n",
    "@mlwf_rule(name = \"Est blonde\")\n",
    "def is_blond(data_set):\n",
    "    data_set[\"IsBlond\"] = (data_set[\"HairColor\"] == 3).astype(int)\n",
    "    \n",
    "@mlwf_rule(name = \"Appliquer une regression logistique\")\n",
    "def apply_logistic_regression(data_set):\n",
    "    data_set['Proba'] = np.random.random(len(data_set))\n",
    "    \n",
    "data_set = read_input_file()\n",
    "\n",
    "remove_name(data_set)\n",
    "manage_age(data_set)\n",
    "\n",
    "data_set['IsFemale'] = (data_set['Sex'] == 'female').astype(int)\n",
    "\n",
    "hair_data = read_hair_data()\n",
    "is_blond(hair_data)\n",
    "\n",
    "data_set = data_set.merge(hair_data)\n",
    "\n",
    "apply_logistic_regression(data_set)"
   ]
  },
  {
   "cell_type": "code",
   "execution_count": null,
   "metadata": {},
   "outputs": [],
   "source": [
    "data_set.current_workflow.plot()"
   ]
  },
  {
   "cell_type": "code",
   "execution_count": null,
   "metadata": {},
   "outputs": [],
   "source": [
    "workflow.to_json('workflow.json')\n",
    "workflow.to_html('workflow.html')"
   ]
  },
  {
   "cell_type": "code",
   "execution_count": 10,
   "metadata": {},
   "outputs": [
    {
     "name": "stdout",
     "output_type": "stream",
     "text": [
      "[1, 0, 3, 'Braund, Mr. Owen Harris', 'male', 22.0, 1, 0, 'A/5 21171', 7.25, nan, 'S']\n"
     ]
    }
   ],
   "source": [
    "import pandas as pd\n",
    "import numpy as np\n",
    "\n",
    "data = pd.read_csv('data/train.csv')\n",
    "\n",
    "data_in_line = [list(row.values) for _, row in data.iterrows()]\n",
    "print(data_in_line[0])\n",
    "def process_pd_inline():\n",
    "    res = []\n",
    "    for _, row in data.iterrows():\n",
    "        res.append(row['Sex'])\n",
    "    return res\n",
    "\n",
    "def process_list_inline():\n",
    "    res = []\n",
    "    for row in data_in_line:\n",
    "        res.append(row[4])\n",
    "    return res\n",
    "\n",
    "\n",
    "assert(process_pd_inline() == process_list_inline())"
   ]
  },
  {
   "cell_type": "code",
   "execution_count": 11,
   "metadata": {},
   "outputs": [
    {
     "name": "stdout",
     "output_type": "stream",
     "text": [
      "55 ms ± 1.02 ms per loop (mean ± std. dev. of 7 runs, 10 loops each)\n"
     ]
    }
   ],
   "source": [
    "%timeit process_pd_inline()"
   ]
  },
  {
   "cell_type": "code",
   "execution_count": 12,
   "metadata": {},
   "outputs": [
    {
     "name": "stdout",
     "output_type": "stream",
     "text": [
      "47.6 µs ± 500 ns per loop (mean ± std. dev. of 7 runs, 10000 loops each)\n"
     ]
    }
   ],
   "source": [
    "%timeit process_list_inline()"
   ]
  },
  {
   "cell_type": "code",
   "execution_count": 13,
   "metadata": {},
   "outputs": [
    {
     "name": "stdout",
     "output_type": "stream",
     "text": [
      "49.2 ms ± 1.03 ms per loop (mean ± std. dev. of 7 runs, 10 loops each)\n"
     ]
    }
   ],
   "source": [
    "%timeit data_in_line = [list(row.values) for _, row in data.iterrows()]"
   ]
  },
  {
   "cell_type": "code",
   "execution_count": 14,
   "metadata": {},
   "outputs": [
    {
     "data": {
      "text/plain": [
       "True"
      ]
     },
     "execution_count": 14,
     "metadata": {},
     "output_type": "execute_result"
    }
   ],
   "source": [
    "True & True"
   ]
  },
  {
   "cell_type": "code",
   "execution_count": 15,
   "metadata": {},
   "outputs": [
    {
     "data": {
      "text/plain": [
       "False"
      ]
     },
     "execution_count": 15,
     "metadata": {},
     "output_type": "execute_result"
    }
   ],
   "source": [
    "True & False"
   ]
  },
  {
   "cell_type": "code",
   "execution_count": 16,
   "metadata": {},
   "outputs": [
    {
     "data": {
      "text/plain": [
       "False"
      ]
     },
     "execution_count": 16,
     "metadata": {},
     "output_type": "execute_result"
    }
   ],
   "source": [
    "False & False"
   ]
  },
  {
   "cell_type": "code",
   "execution_count": 21,
   "metadata": {},
   "outputs": [
    {
     "data": {
      "text/plain": [
       "False"
      ]
     },
     "execution_count": 21,
     "metadata": {},
     "output_type": "execute_result"
    }
   ],
   "source": [
    "True & False and True"
   ]
  },
  {
   "cell_type": "code",
   "execution_count": null,
   "metadata": {},
   "outputs": [],
   "source": []
  }
 ],
 "metadata": {
  "kernelspec": {
   "display_name": "Python 3",
   "language": "python",
   "name": "python3"
  },
  "language_info": {
   "codemirror_mode": {
    "name": "ipython",
    "version": 3
   },
   "file_extension": ".py",
   "mimetype": "text/x-python",
   "name": "python",
   "nbconvert_exporter": "python",
   "pygments_lexer": "ipython3",
   "version": "3.7.6"
  }
 },
 "nbformat": 4,
 "nbformat_minor": 4
}
