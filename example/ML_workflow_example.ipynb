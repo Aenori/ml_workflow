{
 "cells": [
  {
   "cell_type": "code",
   "execution_count": null,
   "metadata": {},
   "outputs": [],
   "source": [
    "import pandas as pd\n",
    "\n",
    "import os, sys\n",
    "# Adding parent directory to python path\n",
    "sys.path.append(os.path.dirname(os.getcwd()))\n",
    "\n",
    "from ml_workflow import Rule, DataSource"
   ]
  },
  {
   "cell_type": "code",
   "execution_count": null,
   "metadata": {},
   "outputs": [],
   "source": [
    "@DataSource\n",
    "def readInputFile():\n",
    "    return pd.read_csv('data/train.csv')\n",
    "\n",
    "@Rule\n",
    "def remove_name(data_set):\n",
    "    data_set.drop('Name')\n",
    "\n",
    "@Rule    \n",
    "def manage_age(data_set):\n",
    "    data_set['NoAge'] = data_set['Age'].isna().astype(int)\n",
    "    data_set.iloc['Age', data_set['Age'].isna()] = data_set['Age'].mean()\n",
    "    \n",
    "data_set = readInputFile()"
   ]
  },
  {
   "cell_type": "code",
   "execution_count": null,
   "metadata": {},
   "outputs": [],
   "source": [
    "data_set['Age'].isna().sum()"
   ]
  },
  {
   "cell_type": "code",
   "execution_count": null,
   "metadata": {},
   "outputs": [],
   "source": []
  }
 ],
 "metadata": {
  "kernelspec": {
   "display_name": "Python 3",
   "language": "python",
   "name": "python3"
  },
  "language_info": {
   "codemirror_mode": {
    "name": "ipython",
    "version": 3
   },
   "file_extension": ".py",
   "mimetype": "text/x-python",
   "name": "python",
   "nbconvert_exporter": "python",
   "pygments_lexer": "ipython3",
   "version": "3.7.6"
  }
 },
 "nbformat": 4,
 "nbformat_minor": 4
}
