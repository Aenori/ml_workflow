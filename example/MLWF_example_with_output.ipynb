{
 "cells": [
  {
   "cell_type": "markdown",
   "metadata": {},
   "source": [
    "# Présentation POC framework covid19"
   ]
  },
  {
   "cell_type": "markdown",
   "metadata": {},
   "source": [
    "4 fonctionnalités :\n",
    "- transparence\n",
    "- aider à la communication y compris pour des non data-scientist\n",
    "- reproductibilité\n",
    "- fonctionnement \"open\""
   ]
  },
  {
   "cell_type": "markdown",
   "metadata": {},
   "source": [
    "# Import"
   ]
  },
  {
   "cell_type": "code",
   "execution_count": 1,
   "metadata": {},
   "outputs": [],
   "source": [
    "import pandas as pd\n",
    "import numpy as np\n",
    "\n",
    "import os, sys\n",
    "# Adding parent directory to python path\n",
    "sys.path.append(os.path.dirname(os.getcwd()))\n",
    "\n",
    "import ml_workflow\n",
    "from ml_workflow import Rule, DataSource\n",
    "\n",
    "import sqlite3"
   ]
  },
  {
   "cell_type": "markdown",
   "metadata": {},
   "source": [
    "# Pseudo covid 19"
   ]
  },
  {
   "cell_type": "code",
   "execution_count": 2,
   "metadata": {},
   "outputs": [],
   "source": [
    "personnal_data_file = 'data/train.csv'\n",
    "pcr_tests_db = 'data/pcr_tests.db'\n",
    "consultation_db = 'data/consultations.db'\n",
    "\n",
    "\n",
    "@DataSource(name='Personnal_data_csv_file')\n",
    "def retrieve_personnal_data():\n",
    "    return pd.read_csv(personnal_data_file)\n",
    "\n",
    "@DataSource(name='Retrieve_pcr_tests')\n",
    "def retrieve_pcr_tests():\n",
    "    conn = sqlite3.connect(pcr_tests_db)\n",
    "    return pd.read_sql(\n",
    "        'SELECT id, person_id, pcr_result, test_date FROM pcr_test ORDER BY id',\n",
    "        conn\n",
    "    )\n",
    "\n",
    "@DataSource(name='Retrieve_data_source')\n",
    "def retrieve_visites():\n",
    "    conn = sqlite3.connect(consultation_db)\n",
    "    return pd.read_sql(\n",
    "        'SELECT id, person_id, services, hospital, consultation_date FROM consultations ORDER BY id',\n",
    "        conn\n",
    "    )\n",
    "\n",
    "@Rule(name='select_with_age', highlight=2)\n",
    "def select_with_age(personnal_df):\n",
    "    return personnal_df[np.logical_not(personnal_df['age'].isna())]\n",
    "        \n",
    "def get_patients_status():\n",
    "    personnal_df = retrieve_personnal_data()\n",
    "    personnal_df = Rule.get_from_reference_name('select_with_age')(personnal_df)\n",
    "        \n",
    "    return personnal_df\n",
    "\n",
    "def get_patients_pcr_positives():\n",
    "    patient_status = get_patients_status()\n",
    "    \n",
    "    tests_pcr = retrieve_pcr_tests()\n",
    "    \n",
    "    with Rule(name='pcr_positif'):\n",
    "        tests_pcr = tests_pcr[tests_pcr['pcr_result'] == 'positive']\n",
    "    \n",
    "    with Rule(name='pcr_positif_merge'):\n",
    "        return patient_status.merge(tests_pcr, left_on='id', right_on='person_id')\n",
    "    \n",
    "def get_consultations():\n",
    "    return retrieve_visites()\n"
   ]
  },
  {
   "cell_type": "markdown",
   "metadata": {},
   "source": [
    "## Sqlite3 play-ground"
   ]
  },
  {
   "cell_type": "markdown",
   "metadata": {},
   "source": [
    "## Pandas play-ground"
   ]
  },
  {
   "cell_type": "code",
   "execution_count": 3,
   "metadata": {},
   "outputs": [
    {
     "data": {
      "text/plain": [
       "29.6206862745098"
      ]
     },
     "execution_count": 3,
     "metadata": {},
     "output_type": "execute_result"
    }
   ],
   "source": [
    "get_patients_status()['age'].mean()"
   ]
  },
  {
   "cell_type": "markdown",
   "metadata": {},
   "source": [
    "# User code"
   ]
  },
  {
   "cell_type": "code",
   "execution_count": 4,
   "metadata": {},
   "outputs": [
    {
     "data": {
      "image/svg+xml": [
       "<svg xmlns=\"http://www.w3.org/2000/svg\" xmlns:xlink=\"http://www.w3.org/1999/xlink\" width=\"256pt\" height=\"179pt\" viewBox=\"0.00 0.00 192.00 134.25\">\n",
       "<g id=\"graph0\" class=\"graph\" transform=\"scale(0.75 0.75) rotate(0) translate(4 130.25)\">\n",
       "<title>G</title>\n",
       "<polygon fill=\"white\" stroke=\"transparent\" points=\"-4,4 -4,-130.25 188,-130.25 188,4 -4,4\"/>\n",
       "<!-- Workflow_node_7 -->\n",
       "<g id=\"node1\" class=\"node\">\n",
       "<title>Workflow_node_7</title>\n",
       "<g id=\"a_node1\"><a xlink:href=\"http://www.google.fr/?q=select_with_age\" xlink:title=\"select_with_age\\nsize : 714\">\n",
       "<polygon fill=\"none\" stroke=\"red\" points=\"156.5,-38 27.5,-38 27.5,0 156.5,0 156.5,-38\"/>\n",
       "<text text-anchor=\"middle\" x=\"92\" y=\"-22.8\" font-family=\"Times,serif\" font-size=\"14.00\">select_with_age</text>\n",
       "<text text-anchor=\"middle\" x=\"92\" y=\"-7.8\" font-family=\"Times,serif\" font-size=\"14.00\">size : 714</text>\n",
       "</a>\n",
       "</g>\n",
       "</g>\n",
       "<!-- Workflow_node_5 -->\n",
       "<g id=\"node2\" class=\"node\">\n",
       "<title>Workflow_node_5</title>\n",
       "<g id=\"a_node2\"><a xlink:href=\"http://www.google.fr/?q=Personnal_data_csv_file\" xlink:title=\"Personnal_data_csv_file\\nsize : 891\">\n",
       "<path fill=\"none\" stroke=\"grey\" d=\"M184,-121.6C184,-124.24 142.76,-126.38 92,-126.38 41.24,-126.38 0,-124.24 0,-121.6 0,-121.6 0,-78.65 0,-78.65 0,-76.01 41.24,-73.87 92,-73.87 142.76,-73.87 184,-76.01 184,-78.65 184,-78.65 184,-121.6 184,-121.6\"/>\n",
       "<path fill=\"none\" stroke=\"grey\" d=\"M184,-121.6C184,-118.97 142.76,-116.83 92,-116.83 41.24,-116.83 0,-118.97 0,-121.6\"/>\n",
       "<text text-anchor=\"middle\" x=\"92\" y=\"-103.92\" font-family=\"Times,serif\" font-size=\"14.00\">Personnal_data_csv_file</text>\n",
       "<text text-anchor=\"middle\" x=\"92\" y=\"-88.92\" font-family=\"Times,serif\" font-size=\"14.00\">size : 891</text>\n",
       "</a>\n",
       "</g>\n",
       "</g>\n",
       "<!-- Workflow_node_5&#45;&gt;Workflow_node_7 -->\n",
       "<g id=\"edge1\" class=\"edge\">\n",
       "<title>Workflow_node_5-&gt;Workflow_node_7</title>\n",
       "<path fill=\"none\" stroke=\"black\" d=\"M92,-73.65C92,-65.52 92,-56.48 92,-48.16\"/>\n",
       "<polygon fill=\"black\" stroke=\"black\" points=\"95.5,-48.15 92,-38.15 88.5,-48.15 95.5,-48.15\"/>\n",
       "</g>\n",
       "</g>\n",
       "</svg>"
      ],
      "text/plain": [
       "<IPython.core.display.SVG object>"
      ]
     },
     "execution_count": 4,
     "metadata": {},
     "output_type": "execute_result"
    }
   ],
   "source": [
    "patient_status = get_patients_status()\n",
    "\n",
    "patient_status.plot_model()"
   ]
  },
  {
   "cell_type": "code",
   "execution_count": 5,
   "metadata": {},
   "outputs": [
    {
     "data": {
      "image/svg+xml": [
       "<svg xmlns=\"http://www.w3.org/2000/svg\" xmlns:xlink=\"http://www.w3.org/1999/xlink\" width=\"479pt\" height=\"278pt\" viewBox=\"0.00 0.00 359.50 208.25\">\n",
       "<g id=\"graph0\" class=\"graph\" transform=\"scale(0.75 0.75) rotate(0) translate(4 204.25)\">\n",
       "<title>G</title>\n",
       "<polygon fill=\"white\" stroke=\"transparent\" points=\"-4,4 -4,-204.25 355.5,-204.25 355.5,4 -4,4\"/>\n",
       "<!-- Workflow_node_16 -->\n",
       "<g id=\"node1\" class=\"node\">\n",
       "<title>Workflow_node_16</title>\n",
       "<g id=\"a_node1\"><a xlink:href=\"http://www.google.fr/?q=pcr_positif_merge\" xlink:title=\"pcr_positif_merge\\nsize : 327\">\n",
       "<polygon fill=\"none\" stroke=\"grey\" points=\"256,-38 112,-38 112,0 256,0 256,-38\"/>\n",
       "<text text-anchor=\"middle\" x=\"184\" y=\"-22.8\" font-family=\"Times,serif\" font-size=\"14.00\">pcr_positif_merge</text>\n",
       "<text text-anchor=\"middle\" x=\"184\" y=\"-7.8\" font-family=\"Times,serif\" font-size=\"14.00\">size : 327</text>\n",
       "</a>\n",
       "</g>\n",
       "</g>\n",
       "<!-- Workflow_node_10 -->\n",
       "<g id=\"node2\" class=\"node\">\n",
       "<title>Workflow_node_10</title>\n",
       "<g id=\"a_node2\"><a xlink:href=\"http://www.google.fr/?q=select_with_age\" xlink:title=\"select_with_age\\nsize : 714\">\n",
       "<polygon fill=\"none\" stroke=\"red\" points=\"184.5,-112 55.5,-112 55.5,-74 184.5,-74 184.5,-112\"/>\n",
       "<text text-anchor=\"middle\" x=\"120\" y=\"-96.8\" font-family=\"Times,serif\" font-size=\"14.00\">select_with_age</text>\n",
       "<text text-anchor=\"middle\" x=\"120\" y=\"-81.8\" font-family=\"Times,serif\" font-size=\"14.00\">size : 714</text>\n",
       "</a>\n",
       "</g>\n",
       "</g>\n",
       "<!-- Workflow_node_10&#45;&gt;Workflow_node_16 -->\n",
       "<g id=\"edge1\" class=\"edge\">\n",
       "<title>Workflow_node_10-&gt;Workflow_node_16</title>\n",
       "<path fill=\"none\" stroke=\"black\" d=\"M136.15,-73.83C143.67,-65.37 152.76,-55.15 160.98,-45.9\"/>\n",
       "<polygon fill=\"black\" stroke=\"black\" points=\"163.6,-48.21 167.63,-38.41 158.37,-43.56 163.6,-48.21\"/>\n",
       "</g>\n",
       "<!-- Workflow_node_8 -->\n",
       "<g id=\"node3\" class=\"node\">\n",
       "<title>Workflow_node_8</title>\n",
       "<g id=\"a_node3\"><a xlink:href=\"http://www.google.fr/?q=Personnal_data_csv_file\" xlink:title=\"Personnal_data_csv_file\\nsize : 891\">\n",
       "<path fill=\"none\" stroke=\"grey\" d=\"M184,-195.6C184,-198.24 142.76,-200.38 92,-200.38 41.24,-200.38 0,-198.24 0,-195.6 0,-195.6 0,-152.65 0,-152.65 0,-150.01 41.24,-147.87 92,-147.87 142.76,-147.87 184,-150.01 184,-152.65 184,-152.65 184,-195.6 184,-195.6\"/>\n",
       "<path fill=\"none\" stroke=\"grey\" d=\"M184,-195.6C184,-192.97 142.76,-190.83 92,-190.83 41.24,-190.83 0,-192.97 0,-195.6\"/>\n",
       "<text text-anchor=\"middle\" x=\"92\" y=\"-177.93\" font-family=\"Times,serif\" font-size=\"14.00\">Personnal_data_csv_file</text>\n",
       "<text text-anchor=\"middle\" x=\"92\" y=\"-162.93\" font-family=\"Times,serif\" font-size=\"14.00\">size : 891</text>\n",
       "</a>\n",
       "</g>\n",
       "</g>\n",
       "<!-- Workflow_node_8&#45;&gt;Workflow_node_10 -->\n",
       "<g id=\"edge3\" class=\"edge\">\n",
       "<title>Workflow_node_8-&gt;Workflow_node_10</title>\n",
       "<path fill=\"none\" stroke=\"black\" d=\"M101.01,-147.65C103.96,-139.34 107.23,-130.07 110.23,-121.61\"/>\n",
       "<polygon fill=\"black\" stroke=\"black\" points=\"113.54,-122.75 113.58,-112.15 106.94,-120.41 113.54,-122.75\"/>\n",
       "</g>\n",
       "<!-- Workflow_node_13 -->\n",
       "<g id=\"node4\" class=\"node\">\n",
       "<title>Workflow_node_13</title>\n",
       "<g id=\"a_node4\"><a xlink:href=\"http://www.google.fr/?q=pcr_positif\" xlink:title=\"pcr_positif\\nsize : 409\">\n",
       "<polygon fill=\"none\" stroke=\"grey\" points=\"309,-112 217,-112 217,-74 309,-74 309,-112\"/>\n",
       "<text text-anchor=\"middle\" x=\"263\" y=\"-96.8\" font-family=\"Times,serif\" font-size=\"14.00\">pcr_positif</text>\n",
       "<text text-anchor=\"middle\" x=\"263\" y=\"-81.8\" font-family=\"Times,serif\" font-size=\"14.00\">size : 409</text>\n",
       "</a>\n",
       "</g>\n",
       "</g>\n",
       "<!-- Workflow_node_13&#45;&gt;Workflow_node_16 -->\n",
       "<g id=\"edge2\" class=\"edge\">\n",
       "<title>Workflow_node_13-&gt;Workflow_node_16</title>\n",
       "<path fill=\"none\" stroke=\"black\" d=\"M243.06,-73.83C233.52,-65.13 221.94,-54.58 211.57,-45.13\"/>\n",
       "<polygon fill=\"black\" stroke=\"black\" points=\"213.68,-42.31 203.93,-38.16 208.96,-47.49 213.68,-42.31\"/>\n",
       "</g>\n",
       "<!-- Workflow_node_11 -->\n",
       "<g id=\"node5\" class=\"node\">\n",
       "<title>Workflow_node_11</title>\n",
       "<g id=\"a_node5\"><a xlink:href=\"http://www.google.fr/?q=Retrieve_pcr_tests\" xlink:title=\"Retrieve_pcr_tests\\nsize : 891\">\n",
       "<path fill=\"none\" stroke=\"grey\" d=\"M351.5,-195.6C351.5,-198.24 318.11,-200.38 277,-200.38 235.89,-200.38 202.5,-198.24 202.5,-195.6 202.5,-195.6 202.5,-152.65 202.5,-152.65 202.5,-150.01 235.89,-147.87 277,-147.87 318.11,-147.87 351.5,-150.01 351.5,-152.65 351.5,-152.65 351.5,-195.6 351.5,-195.6\"/>\n",
       "<path fill=\"none\" stroke=\"grey\" d=\"M351.5,-195.6C351.5,-192.97 318.11,-190.83 277,-190.83 235.89,-190.83 202.5,-192.97 202.5,-195.6\"/>\n",
       "<text text-anchor=\"middle\" x=\"277\" y=\"-177.93\" font-family=\"Times,serif\" font-size=\"14.00\">Retrieve_pcr_tests</text>\n",
       "<text text-anchor=\"middle\" x=\"277\" y=\"-162.93\" font-family=\"Times,serif\" font-size=\"14.00\">size : 891</text>\n",
       "</a>\n",
       "</g>\n",
       "</g>\n",
       "<!-- Workflow_node_11&#45;&gt;Workflow_node_13 -->\n",
       "<g id=\"edge4\" class=\"edge\">\n",
       "<title>Workflow_node_11-&gt;Workflow_node_13</title>\n",
       "<path fill=\"none\" stroke=\"black\" d=\"M272.49,-147.65C271.05,-139.52 269.45,-130.48 267.98,-122.16\"/>\n",
       "<polygon fill=\"black\" stroke=\"black\" points=\"271.4,-121.39 266.21,-112.15 264.51,-122.61 271.4,-121.39\"/>\n",
       "</g>\n",
       "</g>\n",
       "</svg>"
      ],
      "text/plain": [
       "<IPython.core.display.SVG object>"
      ]
     },
     "execution_count": 5,
     "metadata": {},
     "output_type": "execute_result"
    }
   ],
   "source": [
    "get_patients_pcr_positives().plot_model()"
   ]
  },
  {
   "cell_type": "code",
   "execution_count": 6,
   "metadata": {},
   "outputs": [
    {
     "data": {
      "image/svg+xml": [
       "<svg xmlns=\"http://www.w3.org/2000/svg\" xmlns:xlink=\"http://www.w3.org/1999/xlink\" width=\"479pt\" height=\"376pt\" viewBox=\"0.00 0.00 359.50 282.25\">\n",
       "<g id=\"graph0\" class=\"graph\" transform=\"scale(0.75 0.75) rotate(0) translate(4 278.25)\">\n",
       "<title>G</title>\n",
       "<polygon fill=\"white\" stroke=\"transparent\" points=\"-4,4 -4,-278.25 355.5,-278.25 355.5,4 -4,4\"/>\n",
       "<!-- Workflow_node_27 -->\n",
       "<g id=\"node1\" class=\"node\">\n",
       "<title>Workflow_node_27</title>\n",
       "<g id=\"a_node1\"><a xlink:href=\"http://www.google.fr/?q=Unspecified_rule\" xlink:title=\"Unspecified_rule\\nsize : 86\">\n",
       "<polygon fill=\"none\" stroke=\"grey\" points=\"252,-38 116,-38 116,0 252,0 252,-38\"/>\n",
       "<text text-anchor=\"middle\" x=\"184\" y=\"-22.8\" font-family=\"Times,serif\" font-size=\"14.00\">Unspecified_rule</text>\n",
       "<text text-anchor=\"middle\" x=\"184\" y=\"-7.8\" font-family=\"Times,serif\" font-size=\"14.00\">size : 86</text>\n",
       "</a>\n",
       "</g>\n",
       "</g>\n",
       "<!-- Workflow_node_25 -->\n",
       "<g id=\"node2\" class=\"node\">\n",
       "<title>Workflow_node_25</title>\n",
       "<g id=\"a_node2\"><a xlink:href=\"http://www.google.fr/?q=pcr_positif_merge\" xlink:title=\"pcr_positif_merge\\nsize : 327\">\n",
       "<polygon fill=\"none\" stroke=\"grey\" points=\"256,-112 112,-112 112,-74 256,-74 256,-112\"/>\n",
       "<text text-anchor=\"middle\" x=\"184\" y=\"-96.8\" font-family=\"Times,serif\" font-size=\"14.00\">pcr_positif_merge</text>\n",
       "<text text-anchor=\"middle\" x=\"184\" y=\"-81.8\" font-family=\"Times,serif\" font-size=\"14.00\">size : 327</text>\n",
       "</a>\n",
       "</g>\n",
       "</g>\n",
       "<!-- Workflow_node_25&#45;&gt;Workflow_node_27 -->\n",
       "<g id=\"edge1\" class=\"edge\">\n",
       "<title>Workflow_node_25-&gt;Workflow_node_27</title>\n",
       "<path fill=\"none\" stroke=\"black\" d=\"M184,-73.83C184,-66.13 184,-56.97 184,-48.42\"/>\n",
       "<polygon fill=\"black\" stroke=\"black\" points=\"187.5,-48.41 184,-38.41 180.5,-48.41 187.5,-48.41\"/>\n",
       "</g>\n",
       "<!-- Workflow_node_19 -->\n",
       "<g id=\"node3\" class=\"node\">\n",
       "<title>Workflow_node_19</title>\n",
       "<g id=\"a_node3\"><a xlink:href=\"http://www.google.fr/?q=select_with_age\" xlink:title=\"select_with_age\\nsize : 714\">\n",
       "<polygon fill=\"none\" stroke=\"red\" points=\"184.5,-186 55.5,-186 55.5,-148 184.5,-148 184.5,-186\"/>\n",
       "<text text-anchor=\"middle\" x=\"120\" y=\"-170.8\" font-family=\"Times,serif\" font-size=\"14.00\">select_with_age</text>\n",
       "<text text-anchor=\"middle\" x=\"120\" y=\"-155.8\" font-family=\"Times,serif\" font-size=\"14.00\">size : 714</text>\n",
       "</a>\n",
       "</g>\n",
       "</g>\n",
       "<!-- Workflow_node_19&#45;&gt;Workflow_node_25 -->\n",
       "<g id=\"edge2\" class=\"edge\">\n",
       "<title>Workflow_node_19-&gt;Workflow_node_25</title>\n",
       "<path fill=\"none\" stroke=\"black\" d=\"M136.15,-147.83C143.67,-139.37 152.76,-129.15 160.98,-119.9\"/>\n",
       "<polygon fill=\"black\" stroke=\"black\" points=\"163.6,-122.21 167.63,-112.41 158.37,-117.56 163.6,-122.21\"/>\n",
       "</g>\n",
       "<!-- Workflow_node_17 -->\n",
       "<g id=\"node4\" class=\"node\">\n",
       "<title>Workflow_node_17</title>\n",
       "<g id=\"a_node4\"><a xlink:href=\"http://www.google.fr/?q=Personnal_data_csv_file\" xlink:title=\"Personnal_data_csv_file\\nsize : 891\">\n",
       "<path fill=\"none\" stroke=\"grey\" d=\"M184,-269.6C184,-272.24 142.76,-274.38 92,-274.38 41.24,-274.38 0,-272.24 0,-269.6 0,-269.6 0,-226.65 0,-226.65 0,-224.01 41.24,-221.87 92,-221.87 142.76,-221.87 184,-224.01 184,-226.65 184,-226.65 184,-269.6 184,-269.6\"/>\n",
       "<path fill=\"none\" stroke=\"grey\" d=\"M184,-269.6C184,-266.97 142.76,-264.83 92,-264.83 41.24,-264.83 0,-266.97 0,-269.6\"/>\n",
       "<text text-anchor=\"middle\" x=\"92\" y=\"-251.93\" font-family=\"Times,serif\" font-size=\"14.00\">Personnal_data_csv_file</text>\n",
       "<text text-anchor=\"middle\" x=\"92\" y=\"-236.93\" font-family=\"Times,serif\" font-size=\"14.00\">size : 891</text>\n",
       "</a>\n",
       "</g>\n",
       "</g>\n",
       "<!-- Workflow_node_17&#45;&gt;Workflow_node_19 -->\n",
       "<g id=\"edge4\" class=\"edge\">\n",
       "<title>Workflow_node_17-&gt;Workflow_node_19</title>\n",
       "<path fill=\"none\" stroke=\"black\" d=\"M101.01,-221.65C103.96,-213.34 107.23,-204.07 110.23,-195.61\"/>\n",
       "<polygon fill=\"black\" stroke=\"black\" points=\"113.54,-196.75 113.58,-186.15 106.94,-194.41 113.54,-196.75\"/>\n",
       "</g>\n",
       "<!-- Workflow_node_22 -->\n",
       "<g id=\"node5\" class=\"node\">\n",
       "<title>Workflow_node_22</title>\n",
       "<g id=\"a_node5\"><a xlink:href=\"http://www.google.fr/?q=pcr_positif\" xlink:title=\"pcr_positif\\nsize : 409\">\n",
       "<polygon fill=\"none\" stroke=\"grey\" points=\"309,-186 217,-186 217,-148 309,-148 309,-186\"/>\n",
       "<text text-anchor=\"middle\" x=\"263\" y=\"-170.8\" font-family=\"Times,serif\" font-size=\"14.00\">pcr_positif</text>\n",
       "<text text-anchor=\"middle\" x=\"263\" y=\"-155.8\" font-family=\"Times,serif\" font-size=\"14.00\">size : 409</text>\n",
       "</a>\n",
       "</g>\n",
       "</g>\n",
       "<!-- Workflow_node_22&#45;&gt;Workflow_node_25 -->\n",
       "<g id=\"edge3\" class=\"edge\">\n",
       "<title>Workflow_node_22-&gt;Workflow_node_25</title>\n",
       "<path fill=\"none\" stroke=\"black\" d=\"M243.06,-147.83C233.52,-139.13 221.94,-128.58 211.57,-119.13\"/>\n",
       "<polygon fill=\"black\" stroke=\"black\" points=\"213.68,-116.31 203.93,-112.16 208.96,-121.49 213.68,-116.31\"/>\n",
       "</g>\n",
       "<!-- Workflow_node_20 -->\n",
       "<g id=\"node6\" class=\"node\">\n",
       "<title>Workflow_node_20</title>\n",
       "<g id=\"a_node6\"><a xlink:href=\"http://www.google.fr/?q=Retrieve_pcr_tests\" xlink:title=\"Retrieve_pcr_tests\\nsize : 891\">\n",
       "<path fill=\"none\" stroke=\"grey\" d=\"M351.5,-269.6C351.5,-272.24 318.11,-274.38 277,-274.38 235.89,-274.38 202.5,-272.24 202.5,-269.6 202.5,-269.6 202.5,-226.65 202.5,-226.65 202.5,-224.01 235.89,-221.87 277,-221.87 318.11,-221.87 351.5,-224.01 351.5,-226.65 351.5,-226.65 351.5,-269.6 351.5,-269.6\"/>\n",
       "<path fill=\"none\" stroke=\"grey\" d=\"M351.5,-269.6C351.5,-266.97 318.11,-264.83 277,-264.83 235.89,-264.83 202.5,-266.97 202.5,-269.6\"/>\n",
       "<text text-anchor=\"middle\" x=\"277\" y=\"-251.93\" font-family=\"Times,serif\" font-size=\"14.00\">Retrieve_pcr_tests</text>\n",
       "<text text-anchor=\"middle\" x=\"277\" y=\"-236.93\" font-family=\"Times,serif\" font-size=\"14.00\">size : 891</text>\n",
       "</a>\n",
       "</g>\n",
       "</g>\n",
       "<!-- Workflow_node_20&#45;&gt;Workflow_node_22 -->\n",
       "<g id=\"edge5\" class=\"edge\">\n",
       "<title>Workflow_node_20-&gt;Workflow_node_22</title>\n",
       "<path fill=\"none\" stroke=\"black\" d=\"M272.49,-221.65C271.05,-213.52 269.45,-204.48 267.98,-196.16\"/>\n",
       "<polygon fill=\"black\" stroke=\"black\" points=\"271.4,-195.39 266.21,-186.15 264.51,-196.61 271.4,-195.39\"/>\n",
       "</g>\n",
       "</g>\n",
       "</svg>"
      ],
      "text/plain": [
       "<IPython.core.display.SVG object>"
      ]
     },
     "execution_count": 6,
     "metadata": {},
     "output_type": "execute_result"
    }
   ],
   "source": [
    "patients = get_patients_pcr_positives()\n",
    "\n",
    "my_patient_status = patients[patients['age'] >= 18]\n",
    "my_patient_status = my_patient_status[my_patient_status['sex'] == 'female']\n",
    "\n",
    "my_patient_status.plot_model('graph.svg')\n",
    "my_patient_status.plot_model()\n"
   ]
  },
  {
   "cell_type": "code",
   "execution_count": 7,
   "metadata": {},
   "outputs": [
    {
     "data": {
      "image/png": "[encoded data removed]",
      "text/plain": [
       "<IPython.core.display.Image object>"
      ]
     },
     "execution_count": 7,
     "metadata": {},
     "output_type": "execute_result"
    }
   ],
   "source": [
    "patients = get_patients_pcr_positives()\n",
    "\n",
    "with Rule(name='Select_adult_women'):\n",
    "    my_patient_status = patients[patients['age'] >= 18]\n",
    "    my_patient_status = my_patient_status[my_patient_status['sex'] == 'female']\n",
    "\n",
    "my_patient_status.plot_model('graph.png')"
   ]
  },
  {
   "cell_type": "markdown",
   "metadata": {},
   "source": [
    "## Vérification de contraintes"
   ]
  },
  {
   "cell_type": "code",
   "execution_count": 8,
   "metadata": {},
   "outputs": [
    {
     "name": "stdout",
     "output_type": "stream",
     "text": [
      "True\n",
      "True\n"
     ]
    }
   ],
   "source": [
    "def check_is_called_after(node, rule_name):\n",
    "    if node.origin.name == rule_name:\n",
    "        return True\n",
    "    \n",
    "    for parent in node.previous:\n",
    "        if check_is_called_after(parent, rule_name):\n",
    "            return True\n",
    "        \n",
    "    return False\n",
    "\n",
    "def check_is_called_after_rule(leaf_node, rule_1, rule_2):\n",
    "    if isinstance(leaf_node, pd.DataFrame):\n",
    "        return check_is_called_after_rule(leaf_node.ml_workflow_node, rule_1, rule_2)\n",
    "    \n",
    "    result = True\n",
    "    for node in leaf_node.get_all_nodes():\n",
    "        if node.origin[0] == rule_1:\n",
    "            result = result and check_is_called_after(node, rule_2)\n",
    "            \n",
    "    return result\n",
    "\n",
    "print(check_is_called_after_rule(my_patient_status, 'select_with_age', 'Personnal data csv file'))\n",
    "print(check_is_called_after_rule(my_patient_status, 'select_with_age', 'Retrieve pcr tests'))"
   ]
  },
  {
   "cell_type": "markdown",
   "metadata": {},
   "source": [
    "# Fonctionnalité reproductibilité"
   ]
  },
  {
   "cell_type": "code",
   "execution_count": 9,
   "metadata": {},
   "outputs": [],
   "source": [
    "conn = sqlite3.connect(pcr_tests_db)\n",
    "conn.execute(\"UPDATE pcr_test SET pcr_result = 'positive' WHERE pcr_result = 'Positif'\")\n",
    "conn.commit()"
   ]
  },
  {
   "cell_type": "code",
   "execution_count": 10,
   "metadata": {},
   "outputs": [
    {
     "name": "stdout",
     "output_type": "stream",
     "text": [
      "Nb patients : 327\n",
      "Nb patients : 0\n"
     ]
    },
    {
     "name": "stderr",
     "output_type": "stream",
     "text": [
      "/home/nicolas/anaconda3/lib/python3.8/site-packages/pandas/core/generic.py:2434: PerformanceWarning: \n",
      "your performance may suffer as PyTables will pickle object types that it cannot\n",
      "map directly to c-types [inferred_type->mixed,key->block2_values] [items->Index(['name', 'sex', 'ticket', 'cabin', 'embarked'], dtype='object')]\n",
      "\n",
      "  pytables.to_hdf(\n"
     ]
    },
    {
     "data": {
      "image/png": "[encoded data removed]",
      "text/plain": [
       "<IPython.core.display.Image object>"
      ]
     },
     "execution_count": 10,
     "metadata": {},
     "output_type": "execute_result"
    }
   ],
   "source": [
    "from ml_workflow.session import Session   \n",
    "    \n",
    "with Session.record_data_source('temp/test_session_record'):\n",
    "    patients = get_patients_pcr_positives()\n",
    "\n",
    "print(f\"Nb patients : {len(patients)}\")\n",
    "\n",
    "conn = sqlite3.connect(pcr_tests_db)\n",
    "conn.execute(\"UPDATE pcr_test SET pcr_result = 'Positif' WHERE pcr_result = 'positive'\")\n",
    "conn.commit()\n",
    "\n",
    "patients = get_patients_pcr_positives()\n",
    "print(f\"Nb patients : {len(patients)}\")\n",
    "\n",
    "patients.plot_model('graph.png')"
   ]
  },
  {
   "cell_type": "code",
   "execution_count": 11,
   "metadata": {},
   "outputs": [
    {
     "name": "stdout",
     "output_type": "stream",
     "text": [
      "Nb patients : 327\n"
     ]
    }
   ],
   "source": [
    "with Session.play_data_source_record('temp/test_session_record'):\n",
    "    patients = get_patients_pcr_positives()\n",
    "    \n",
    "print(f\"Nb patients : {len(patients)}\")"
   ]
  },
  {
   "cell_type": "code",
   "execution_count": 12,
   "metadata": {},
   "outputs": [
    {
     "data": {
      "image/svg+xml": [
       "<svg xmlns=\"http://www.w3.org/2000/svg\" xmlns:xlink=\"http://www.w3.org/1999/xlink\" width=\"479pt\" height=\"278pt\" viewBox=\"0.00 0.00 359.50 208.25\">\n",
       "<g id=\"graph0\" class=\"graph\" transform=\"scale(0.75 0.75) rotate(0) translate(4 204.25)\">\n",
       "<title>G</title>\n",
       "<polygon fill=\"white\" stroke=\"transparent\" points=\"-4,4 -4,-204.25 355.5,-204.25 355.5,4 -4,4\"/>\n",
       "<!-- Workflow_node_65 -->\n",
       "<g id=\"node1\" class=\"node\">\n",
       "<title>Workflow_node_65</title>\n",
       "<g id=\"a_node1\"><a xlink:href=\"http://www.google.fr/?q=pcr_positif_merge\" xlink:title=\"pcr_positif_merge\\nsize : 327\">\n",
       "<polygon fill=\"none\" stroke=\"grey\" points=\"256,-38 112,-38 112,0 256,0 256,-38\"/>\n",
       "<text text-anchor=\"middle\" x=\"184\" y=\"-22.8\" font-family=\"Times,serif\" font-size=\"14.00\">pcr_positif_merge</text>\n",
       "<text text-anchor=\"middle\" x=\"184\" y=\"-7.8\" font-family=\"Times,serif\" font-size=\"14.00\">size : 327</text>\n",
       "</a>\n",
       "</g>\n",
       "</g>\n",
       "<!-- Workflow_node_59 -->\n",
       "<g id=\"node2\" class=\"node\">\n",
       "<title>Workflow_node_59</title>\n",
       "<g id=\"a_node2\"><a xlink:href=\"http://www.google.fr/?q=select_with_age\" xlink:title=\"select_with_age\\nsize : 714\">\n",
       "<polygon fill=\"none\" stroke=\"red\" points=\"184.5,-112 55.5,-112 55.5,-74 184.5,-74 184.5,-112\"/>\n",
       "<text text-anchor=\"middle\" x=\"120\" y=\"-96.8\" font-family=\"Times,serif\" font-size=\"14.00\">select_with_age</text>\n",
       "<text text-anchor=\"middle\" x=\"120\" y=\"-81.8\" font-family=\"Times,serif\" font-size=\"14.00\">size : 714</text>\n",
       "</a>\n",
       "</g>\n",
       "</g>\n",
       "<!-- Workflow_node_59&#45;&gt;Workflow_node_65 -->\n",
       "<g id=\"edge1\" class=\"edge\">\n",
       "<title>Workflow_node_59-&gt;Workflow_node_65</title>\n",
       "<path fill=\"none\" stroke=\"black\" d=\"M136.15,-73.83C143.67,-65.37 152.76,-55.15 160.98,-45.9\"/>\n",
       "<polygon fill=\"black\" stroke=\"black\" points=\"163.6,-48.21 167.63,-38.41 158.37,-43.56 163.6,-48.21\"/>\n",
       "</g>\n",
       "<!-- Workflow_node_57 -->\n",
       "<g id=\"node3\" class=\"node\">\n",
       "<title>Workflow_node_57</title>\n",
       "<g id=\"a_node3\"><a xlink:href=\"http://www.google.fr/?q=Personnal_data_csv_file\" xlink:title=\"Personnal_data_csv_file\\nsize : 891\">\n",
       "<path fill=\"none\" stroke=\"grey\" d=\"M184,-195.6C184,-198.24 142.76,-200.38 92,-200.38 41.24,-200.38 0,-198.24 0,-195.6 0,-195.6 0,-152.65 0,-152.65 0,-150.01 41.24,-147.87 92,-147.87 142.76,-147.87 184,-150.01 184,-152.65 184,-152.65 184,-195.6 184,-195.6\"/>\n",
       "<path fill=\"none\" stroke=\"grey\" d=\"M184,-195.6C184,-192.97 142.76,-190.83 92,-190.83 41.24,-190.83 0,-192.97 0,-195.6\"/>\n",
       "<text text-anchor=\"middle\" x=\"92\" y=\"-177.93\" font-family=\"Times,serif\" font-size=\"14.00\">Personnal_data_csv_file</text>\n",
       "<text text-anchor=\"middle\" x=\"92\" y=\"-162.93\" font-family=\"Times,serif\" font-size=\"14.00\">size : 891</text>\n",
       "</a>\n",
       "</g>\n",
       "</g>\n",
       "<!-- Workflow_node_57&#45;&gt;Workflow_node_59 -->\n",
       "<g id=\"edge3\" class=\"edge\">\n",
       "<title>Workflow_node_57-&gt;Workflow_node_59</title>\n",
       "<path fill=\"none\" stroke=\"black\" d=\"M101.01,-147.65C103.96,-139.34 107.23,-130.07 110.23,-121.61\"/>\n",
       "<polygon fill=\"black\" stroke=\"black\" points=\"113.54,-122.75 113.58,-112.15 106.94,-120.41 113.54,-122.75\"/>\n",
       "</g>\n",
       "<!-- Workflow_node_62 -->\n",
       "<g id=\"node4\" class=\"node\">\n",
       "<title>Workflow_node_62</title>\n",
       "<g id=\"a_node4\"><a xlink:href=\"http://www.google.fr/?q=pcr_positif\" xlink:title=\"pcr_positif\\nsize : 409\">\n",
       "<polygon fill=\"none\" stroke=\"grey\" points=\"309,-112 217,-112 217,-74 309,-74 309,-112\"/>\n",
       "<text text-anchor=\"middle\" x=\"263\" y=\"-96.8\" font-family=\"Times,serif\" font-size=\"14.00\">pcr_positif</text>\n",
       "<text text-anchor=\"middle\" x=\"263\" y=\"-81.8\" font-family=\"Times,serif\" font-size=\"14.00\">size : 409</text>\n",
       "</a>\n",
       "</g>\n",
       "</g>\n",
       "<!-- Workflow_node_62&#45;&gt;Workflow_node_65 -->\n",
       "<g id=\"edge2\" class=\"edge\">\n",
       "<title>Workflow_node_62-&gt;Workflow_node_65</title>\n",
       "<path fill=\"none\" stroke=\"black\" d=\"M243.06,-73.83C233.52,-65.13 221.94,-54.58 211.57,-45.13\"/>\n",
       "<polygon fill=\"black\" stroke=\"black\" points=\"213.68,-42.31 203.93,-38.16 208.96,-47.49 213.68,-42.31\"/>\n",
       "</g>\n",
       "<!-- Workflow_node_60 -->\n",
       "<g id=\"node5\" class=\"node\">\n",
       "<title>Workflow_node_60</title>\n",
       "<g id=\"a_node5\"><a xlink:href=\"http://www.google.fr/?q=Retrieve_pcr_tests\" xlink:title=\"Retrieve_pcr_tests\\nsize : 891\">\n",
       "<path fill=\"none\" stroke=\"grey\" d=\"M351.5,-195.6C351.5,-198.24 318.11,-200.38 277,-200.38 235.89,-200.38 202.5,-198.24 202.5,-195.6 202.5,-195.6 202.5,-152.65 202.5,-152.65 202.5,-150.01 235.89,-147.87 277,-147.87 318.11,-147.87 351.5,-150.01 351.5,-152.65 351.5,-152.65 351.5,-195.6 351.5,-195.6\"/>\n",
       "<path fill=\"none\" stroke=\"grey\" d=\"M351.5,-195.6C351.5,-192.97 318.11,-190.83 277,-190.83 235.89,-190.83 202.5,-192.97 202.5,-195.6\"/>\n",
       "<text text-anchor=\"middle\" x=\"277\" y=\"-177.93\" font-family=\"Times,serif\" font-size=\"14.00\">Retrieve_pcr_tests</text>\n",
       "<text text-anchor=\"middle\" x=\"277\" y=\"-162.93\" font-family=\"Times,serif\" font-size=\"14.00\">size : 891</text>\n",
       "</a>\n",
       "</g>\n",
       "</g>\n",
       "<!-- Workflow_node_60&#45;&gt;Workflow_node_62 -->\n",
       "<g id=\"edge4\" class=\"edge\">\n",
       "<title>Workflow_node_60-&gt;Workflow_node_62</title>\n",
       "<path fill=\"none\" stroke=\"black\" d=\"M272.49,-147.65C271.05,-139.52 269.45,-130.48 267.98,-122.16\"/>\n",
       "<polygon fill=\"black\" stroke=\"black\" points=\"271.4,-121.39 266.21,-112.15 264.51,-122.61 271.4,-121.39\"/>\n",
       "</g>\n",
       "</g>\n",
       "</svg>"
      ],
      "text/plain": [
       "<IPython.core.display.SVG object>"
      ]
     },
     "execution_count": 12,
     "metadata": {},
     "output_type": "execute_result"
    }
   ],
   "source": [
    "patients.plot_model()"
   ]
  },
  {
   "cell_type": "markdown",
   "metadata": {},
   "source": [
    "## Cleaning db for the other cells"
   ]
  },
  {
   "cell_type": "code",
   "execution_count": 13,
   "metadata": {},
   "outputs": [],
   "source": [
    "conn = sqlite3.connect(pcr_tests_db)\n",
    "conn.execute(\"UPDATE pcr_test SET pcr_result = 'positive' WHERE pcr_result = 'Positif'\")\n",
    "conn.commit()"
   ]
  },
  {
   "cell_type": "markdown",
   "metadata": {},
   "source": [
    "# Fonctionnalité versionning"
   ]
  },
  {
   "cell_type": "code",
   "execution_count": 14,
   "metadata": {},
   "outputs": [
    {
     "data": {
      "image/png": "[encoded data removed]",
      "text/plain": [
       "<IPython.core.display.Image object>"
      ]
     },
     "execution_count": 14,
     "metadata": {},
     "output_type": "execute_result"
    }
   ],
   "source": [
    "patients = get_patients_pcr_positives()\n",
    "\n",
    "my_patient_status = patients[patients['age'] >= 18]\n",
    "my_patient_status = my_patient_status[my_patient_status['sex'] == 'female']\n",
    "\n",
    "my_patient_status.plot_model('graph.png')"
   ]
  },
  {
   "cell_type": "markdown",
   "metadata": {},
   "source": [
    "# Fonctionnalité de choix de version de règles"
   ]
  },
  {
   "cell_type": "code",
   "execution_count": 15,
   "metadata": {},
   "outputs": [
    {
     "data": {
      "image/png": "[encoded data removed]",
      "text/plain": [
       "<IPython.core.display.Image object>"
      ]
     },
     "execution_count": 15,
     "metadata": {},
     "output_type": "execute_result"
    }
   ],
   "source": [
    "@Rule(name='my_custom_override_select_with_age')\n",
    "def my_custom_override_select_with_age(df):\n",
    "    df.loc[df['age'].isna(), 'age'] = df['age'].mean()\n",
    "    \n",
    "    return df\n",
    "\n",
    "Rule.set_for_reference_name('select_with_age', my_custom_override_select_with_age)\n",
    "\n",
    "patients = get_patients_pcr_positives()\n",
    "\n",
    "my_patient_status = patients[patients['age'] >= 18]\n",
    "my_patient_status = my_patient_status[my_patient_status['sex'] == 'female']\n",
    "\n",
    "my_patient_status.plot_model('graph.png')"
   ]
  },
  {
   "cell_type": "code",
   "execution_count": 16,
   "metadata": {},
   "outputs": [],
   "source": [
    "import os\n",
    "\n"
   ]
  },
  {
   "cell_type": "code",
   "execution_count": 17,
   "metadata": {},
   "outputs": [],
   "source": [
    "filename = f'{os.path.dirname(os.getcwd())}/ml_workflow_graph_detail_20200101_000000/test_rule.html'\n",
    "with open(filename, 'r') as f:\n",
    "    html_content = f.read()"
   ]
  },
  {
   "cell_type": "code",
   "execution_count": 18,
   "metadata": {},
   "outputs": [
    {
     "data": {
      "text/html": [
       "<!DOCTYPE html>\n",
       "<html lang=\"fr\">\n",
       "<head>\n",
       "    <title>test_rule</title>\n",
       "</head>\n",
       "<body>\n",
       "    <h1>Documentation pour test_rule</h1>\n",
       "    \n",
       "    <div>\n",
       "        <h3>Function documentation</h3>\n",
       "        <div>\n",
       "            <pre>test_rule doc string</pre>\n",
       "        </div>\n",
       "    </div>\n",
       "    \n",
       "    <div>\n",
       "        <h3>Rule full details</h3>\n",
       "        <div>\n",
       "            <pre>Rule :\n",
       "  return_tuple => False\n",
       "  force_final_handling => False\n",
       "  name => test_rule\n",
       "  origin : /tests/test_viz_utils_node_detail_writer.py:25</pre>\n",
       "        </div>\n",
       "    </div>\n",
       "    \n",
       "    <div>\n",
       "        <h3>Stats</h3>\n",
       "        <div>\n",
       "            <pre>duration => 0.001</pre>\n",
       "        </div>\n",
       "    </div>\n",
       "    \n",
       "    <div>\n",
       "        <h3>Logs</h3>\n",
       "        <div>\n",
       "            <pre>This is a log</pre>\n",
       "        </div>\n",
       "    </div>\n",
       "    \n",
       "    <div>\n",
       "        <h3>Function code</h3>\n",
       "        <div>\n",
       "            <pre><code>@Rule(name = 'test_rule')\n",
       "def rule_test(df):\n",
       "    \"\"\"test_rule doc string\"\"\"\n",
       "    df['C'] = df['A'] + df['B']\n",
       "    ExecutionContext.log(\"This is a log\")\n",
       "    return df\n",
       "</code></pre>\n",
       "        </div>\n",
       "    </div>\n",
       "    \n",
       "</body>\n",
       "</html>"
      ],
      "text/plain": [
       "<IPython.core.display.HTML object>"
      ]
     },
     "execution_count": 18,
     "metadata": {},
     "output_type": "execute_result"
    }
   ],
   "source": [
    "from IPython.core.display import display, HTML\n",
    "HTML(html_content)"
   ]
  },
  {
   "cell_type": "code",
   "execution_count": 19,
   "metadata": {},
   "outputs": [],
   "source": [
    "import os, sys\n",
    "sys.path.append('..')\n",
    "import ml_workflow.helper"
   ]
  },
  {
   "cell_type": "code",
   "execution_count": 20,
   "metadata": {},
   "outputs": [
    {
     "data": {
      "text/html": [
       "<!DOCTYPE html>\n",
       "<html lang=\"fr\">\n",
       "<head>\n",
       "    <title>test_rule</title>\n",
       "</head>\n",
       "<body>\n",
       "    <h1>Documentation pour test_rule</h1>\n",
       "    \n",
       "    <div>\n",
       "        <div class=\"card-header\">\n",
       "        <h2>Function documentation</h2>\n",
       "    </div>\n",
       "    <div class=\"cm-s-ipython\">\n",
       "        <pre>test_rule doc string</pre>\n",
       "    </div>\n",
       "    </div>\n",
       "    \n",
       "    <div>\n",
       "        <div class=\"card-header\">\n",
       "        <h2>Function code</h2>\n",
       "    </div>\n",
       "    <div class=\"cm-s-ipython\">\n",
       "        <pre><code>@Rule(name = 'test_rule')\n",
       "def rule_test(df):\n",
       "    \"\"\"test_rule doc string\"\"\"\n",
       "    df['C'] = df['A'] + df['B']\n",
       "    ExecutionContext.log(\"This is a log\")\n",
       "    return df\n",
       "</code></pre>\n",
       "    </div>\n",
       "    </div>\n",
       "    \n",
       "    <div>\n",
       "        <div class=\"card-header\">\n",
       "        <h2>Stats</h2>\n",
       "    </div>\n",
       "    <div class=\"cm-s-ipython\">\n",
       "        <pre>duration => 0.001</pre>\n",
       "    </div>\n",
       "    </div>\n",
       "    \n",
       "    <div>\n",
       "        <div class=\"card-header\">\n",
       "        <h2>Logs</h2>\n",
       "    </div>\n",
       "    <div class=\"cm-s-ipython\">\n",
       "        <pre>This is a log</pre>\n",
       "    </div>\n",
       "    </div>\n",
       "    \n",
       "</body>\n",
       "</html>"
      ],
      "text/plain": [
       "<IPython.core.display.HTML object>"
      ]
     },
     "execution_count": 20,
     "metadata": {},
     "output_type": "execute_result"
    }
   ],
   "source": [
    "ml_workflow.helper.show_last_logs('test_rule')"
   ]
  },
  {
   "cell_type": "code",
   "execution_count": null,
   "metadata": {},
   "outputs": [],
   "source": []
  }
 ],
 "metadata": {
  "kernelspec": {
   "display_name": "Python 3",
   "language": "python",
   "name": "python3"
  },
  "language_info": {
   "codemirror_mode": {
    "name": "ipython",
    "version": 3
   },
   "file_extension": ".py",
   "mimetype": "text/x-python",
   "name": "python",
   "nbconvert_exporter": "python",
   "pygments_lexer": "ipython3",
   "version": "3.8.5"
  }
 },
 "nbformat": 4,
 "nbformat_minor": 4
}
